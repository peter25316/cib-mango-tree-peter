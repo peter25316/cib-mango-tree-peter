{
 "cells": [
  {
   "cell_type": "code",
   "id": "initial_id",
   "metadata": {
    "collapsed": true,
    "ExecuteTime": {
     "end_time": "2025-10-29T17:20:41.727331Z",
     "start_time": "2025-10-29T17:20:41.557Z"
    }
   },
   "source": [
    "import polars as pl\n",
    "import os\n",
    "\n",
    "# Define the path to your data file relative to the project root\n",
    "# Go up one directory from 'peter-capstone-analysis' to the project root, then into 'data'\n",
    "data_file_path = os.path.join('..', 'data', 'sampledata_truthsocial.csv') # <-- IMPORTANT: Replace 'your_truth_social_data.csv' with the actual filename\n",
    "\n",
    "try:\n",
    "    # Load the CSV file using polars\n",
    "    df = pl.read_csv(data_file_path)\n",
    "\n",
    "    # Display the first few rows to verify loading\n",
    "    print(\"Data loaded successfully. First 5 rows:\")\n",
    "    print(df.head())\n",
    "\n",
    "    # Display the data types of the columns\n",
    "    print(\"\\nData Types:\")\n",
    "    print(df.dtypes)\n",
    "\n",
    "except FileNotFoundError:\n",
    "    print(f\"Error: Data file not found at {data_file_path}\")\n",
    "    print(\"Please ensure the filename is correct and the file exists in the 'data/' directory.\")\n",
    "except Exception as e:\n",
    "    print(f\"An error occurred during data loading: {e}\")"
   ],
   "outputs": [
    {
     "name": "stdout",
     "output_type": "stream",
     "text": [
      "Data loaded successfully. First 5 rows:\n",
      "shape: (5, 13)\n",
      "┌───────────┬───────────┬───────────┬───────────┬───┬───────────┬───────────┬───────────┬──────────┐\n",
      "│ account.d ┆ account.u ┆ account.i ┆ content_c ┆ … ┆ in_reply_ ┆ reblog.id ┆ replies_c ┆ reblogs_ │\n",
      "│ isplay_na ┆ sername   ┆ d         ┆ leaned    ┆   ┆ to_id     ┆ ---       ┆ ount      ┆ count    │\n",
      "│ me        ┆ ---       ┆ ---       ┆ ---       ┆   ┆ ---       ┆ f64       ┆ ---       ┆ ---      │\n",
      "│ ---       ┆ str       ┆ i64       ┆ str       ┆   ┆ f64       ┆           ┆ i64       ┆ i64      │\n",
      "│ str       ┆           ┆           ┆           ┆   ┆           ┆           ┆           ┆          │\n",
      "╞═══════════╪═══════════╪═══════════╪═══════════╪═══╪═══════════╪═══════════╪═══════════╪══════════╡\n",
      "│ suzyQpatr ┆ suzyQpatr ┆ 107842819 ┆ RT @corte ┆ … ┆ null      ┆ 1.1390e17 ┆ 0         ┆ 0        │\n",
      "│ iot       ┆ iot       ┆ 492508562 ┆ ssteveIt’ ┆   ┆           ┆           ┆           ┆          │\n",
      "│           ┆           ┆           ┆ s time    ┆   ┆           ┆           ┆           ┆          │\n",
      "│           ┆           ┆           ┆ for t…    ┆   ┆           ┆           ┆           ┆          │\n",
      "│ AintNoFoo ┆ TaylorSF  ┆ 110137775 ┆ Great     ┆ … ┆ 1.1386e17 ┆ null      ┆ 0         ┆ 0        │\n",
      "│ l         ┆           ┆ 388209477 ┆ idea!! I  ┆   ┆           ┆           ┆           ┆          │\n",
      "│           ┆           ┆           ┆ was told  ┆   ┆           ┆           ┆           ┆          │\n",
      "│           ┆           ┆           ┆ by a r…   ┆   ┆           ┆           ┆           ┆          │\n",
      "│ grandma   ┆ cloder    ┆ 112190955 ┆ Just a    ┆ … ┆ 1.1390e17 ┆ null      ┆ 0         ┆ 0        │\n",
      "│ merica    ┆           ┆ 073529931 ┆ thought.  ┆   ┆           ┆           ┆           ┆          │\n",
      "│           ┆           ┆           ┆ COULD     ┆   ┆           ┆           ┆           ┆          │\n",
      "│           ┆           ┆           ┆ SOME OF … ┆   ┆           ┆           ┆           ┆          │\n",
      "│ facts not ┆ Dorisstua ┆ 108759642 ┆ BREAKNG:  ┆ … ┆ null      ┆ null      ┆ 0         ┆ 1        │\n",
      "│ fiction   ┆ rt        ┆ 085450339 ┆ The Wall  ┆   ┆           ┆           ┆           ┆          │\n",
      "│           ┆           ┆           ┆ Street    ┆   ┆           ┆           ┆           ┆          │\n",
      "│           ┆           ┆           ┆ Journ…    ┆   ┆           ┆           ┆           ┆          │\n",
      "│ Renee08   ┆ Sullivan8 ┆ 111768889 ┆ RT @maxje ┆ … ┆ null      ┆ 1.1390e17 ┆ 0         ┆ 0        │\n",
      "│           ┆ 2         ┆ 721689826 ┆ tt12#Patr ┆   ┆           ┆           ┆           ┆          │\n",
      "│           ┆           ┆           ┆ iotsUnite ┆   ┆           ┆           ┆           ┆          │\n",
      "│           ┆           ┆           ┆ #A…       ┆   ┆           ┆           ┆           ┆          │\n",
      "└───────────┴───────────┴───────────┴───────────┴───┴───────────┴───────────┴───────────┴──────────┘\n",
      "\n",
      "Data Types:\n",
      "[String, String, Int64, String, String, String, String, Int64, Float64, Float64, Float64, Int64, Int64]\n"
     ]
    }
   ],
   "execution_count": 1
  },
  {
   "metadata": {},
   "cell_type": "markdown",
   "source": [
    "## Step: Isolate and Prepare Post Timestamp (created_at) Column\n",
    "**Why are we doing this?**\n",
    "\n",
    "Focus: Our goal is time series analysis, specifically looking for patterns in when posts occur. The created_at column contains this crucial time information. Isolating it removes irrelevant data (like post content, usernames, etc.) for this specific analysis, making the process cleaner and more efficient. We rename it to post_timestamp simply for clarity and consistency with your proposal.\n",
    "\n",
    "\n",
    "\n",
    "\n",
    "Correct Data Type: Computers need to understand that the values in this column represent points in time, not just sequences of characters (strings) or numbers. Time series analysis functions (like plotting over time, calculating autocorrelations, or aggregating by hour/day) require the data to be in a specific datetime format. If the data is currently a string (e.g., \"2023-10-27 10:30:00\") or a number (e.g., a Unix timestamp like 1698399000), we must convert it so the software can perform time-based calculations correctly.\n",
    "\n",
    "**How does this affect the next step?**\n",
    "\n",
    "Enables Time-Based Operations: Once the post_timestamp column is in the correct datetime format, we can perform essential time series operations. The very next step in your Week 1 plan is Initial Time-Series Diagnostics. This involves:\n",
    "\n",
    "\n",
    "Visualization: Plotting the number of posts over time (e.g., posts per hour or day). This requires the datetime type to correctly order and space the data points on the time axis.\n",
    "\n",
    "\n",
    "Aggregation: To perform burst detection or plot posts-per-hour, we need to group the data by time intervals (hour, minute, day). This aggregation relies heavily on the datetime data type.\n",
    "\n",
    "\n",
    "ACF Calculation: Calculating the Autocorrelation Function (ACF) involves comparing the time series with lagged versions of itself. This inherently requires the data to be ordered correctly by time, which the datetime format ensures.\n",
    "\n",
    "\n",
    "\n",
    "\n",
    "Foundation for Modeling: All subsequent analysis, including Burst Detection and Temporal Clustering (which involves extracting features like hour-of-day ), fundamentally depends on having accurate and usable timestamp data. Getting this step right is crucial for the validity of all future results."
   ],
   "id": "1cde17f33c776496"
  },
  {
   "metadata": {
    "ExecuteTime": {
     "end_time": "2025-10-29T17:20:41.775716Z",
     "start_time": "2025-10-29T17:20:41.734315Z"
    }
   },
   "cell_type": "code",
   "source": [
    "try:\n",
    "    # Load the CSV file using polars\n",
    "    df = pl.read_csv(data_file_path)\n",
    "\n",
    "    # --- Select and Prepare Timestamp ---\n",
    "    ts_df = df.select(\n",
    "        pl.col('created_at').alias('post_timestamp')\n",
    "    )\n",
    "    print(\"Original data type of post_timestamp:\")\n",
    "    print(ts_df.dtypes)\n",
    "\n",
    "    if ts_df['post_timestamp'].dtype == pl.String:\n",
    "        print(\"\\nConverting string (ISO 8601 format) to datetime...\")\n",
    "        try:\n",
    "            # Polars' str.to_datetime should handle ISO 8601 including timezone automatically\n",
    "            # Let's try without specifying a format first.\n",
    "            ts_df = ts_df.with_columns(\n",
    "                pl.col('post_timestamp').str.to_datetime().alias('post_timestamp')\n",
    "            )\n",
    "            print(\"Automatic conversion successful!\")\n",
    "\n",
    "        except Exception as e:\n",
    "            # If automatic fails again, try a specific format string for ISO 8601\n",
    "            # %Y-%m-%dT%H:%M:%S%.f%:z handles microseconds and timezone like +00:00\n",
    "            print(f\"Automatic conversion failed again ({e}). Trying specific ISO 8601 format...\")\n",
    "            iso_format = \"%Y-%m-%dT%H:%M:%S%.f%:z\"\n",
    "            ts_df = ts_df.with_columns(\n",
    "                pl.col('post_timestamp').str.to_datetime(format=iso_format).alias('post_timestamp')\n",
    "            )\n",
    "            print(\"Specific format conversion successful!\")\n",
    "\n",
    "        print(\"\\nConverted data type:\")\n",
    "        print(ts_df.dtypes)\n",
    "        print(\"\\nNote: Timestamps might now be timezone-aware (e.g., datetime[μs, UTC])\")\n",
    "\n",
    "\n",
    "    # Display the first few rows with the prepared timestamp\n",
    "    print(\"\\nPrepared Timestamp Data:\")\n",
    "    print(ts_df.head())\n",
    "\n",
    "except pl.ColumnNotFoundError:\n",
    "    print(\"Error: Column 'created_at' not found in the DataFrame.\")\n",
    "except Exception as e:\n",
    "    print(f\"An error occurred during conversion: {e}\")"
   ],
   "id": "1fe020862c2364f9",
   "outputs": [
    {
     "name": "stdout",
     "output_type": "stream",
     "text": [
      "Original data type of post_timestamp:\n",
      "[String]\n",
      "\n",
      "Converting string (ISO 8601 format) to datetime...\n",
      "Automatic conversion failed again (`strptime` / `to_datetime` was called with no format and no time zone, but a time zone is part of the data.\n",
      "\n",
      "This was previously allowed but led to unpredictable and erroneous results. Give a format string, set a time zone or perform the operation eagerly on a Series instead of on an Expr.). Trying specific ISO 8601 format...\n",
      "Specific format conversion successful!\n",
      "\n",
      "Converted data type:\n",
      "[Datetime(time_unit='us', time_zone='UTC')]\n",
      "\n",
      "Note: Timestamps might now be timezone-aware (e.g., datetime[μs, UTC])\n",
      "\n",
      "Prepared Timestamp Data:\n",
      "shape: (5, 1)\n",
      "┌─────────────────────────────┐\n",
      "│ post_timestamp              │\n",
      "│ ---                         │\n",
      "│ datetime[μs, UTC]           │\n",
      "╞═════════════════════════════╡\n",
      "│ 2025-01-27 05:04:04.797 UTC │\n",
      "│ 2025-01-27 05:07:12.056 UTC │\n",
      "│ 2025-01-27 05:07:16.126 UTC │\n",
      "│ 2025-01-27 05:07:45.702 UTC │\n",
      "│ 2025-01-27 05:12:06.137 UTC │\n",
      "└─────────────────────────────┘\n"
     ]
    }
   ],
   "execution_count": 2
  },
  {
   "metadata": {},
   "cell_type": "markdown",
   "source": [
    "**1. Visualization**\n",
    "\n",
    "**Why do this?** Plotting the data over time is the first step in understanding its behavior. We visually check for:\n",
    "\n",
    "- Trends: Is the posting activity generally increasing or decreasing over time ?\n",
    "- Seasonality: Are there repeating patterns within fixed time intervals (e.g., daily, weekly) ?\n",
    "- Anomalies/Bursts: Are there obvious spikes or unusual periods of activity?\n",
    "- Variance Stability: Does the amount of fluctuation change depending on the level of activity? (Needed for step 3)\n",
    "\n",
    "**How does this affect the next step?** Visual inspection gives us initial clues about the data's structure. If we see strong seasonality or trends, it guides how we might approach modeling or transformation later. Obvious bursts might corroborate the findings of our burst detection algorithm."
   ],
   "id": "5041fee338ac066a"
  },
  {
   "metadata": {
    "ExecuteTime": {
     "end_time": "2025-10-29T17:20:43.388577Z",
     "start_time": "2025-10-29T17:20:41.780705Z"
    }
   },
   "cell_type": "code",
   "source": [
    "import plotly.express as px\n",
    "import polars as pl # Make sure polars is imported\n",
    "\n",
    "try:\n",
    "    # --- Ensure data is sorted by timestamp ---\n",
    "    print(\"Sorting data by post_timestamp...\")\n",
    "    ts_df_sorted = ts_df.sort(\"post_timestamp\")\n",
    "    print(\"Sorting complete.\")\n",
    "\n",
    "    # --- Aggregate Data by Hour ---\n",
    "    # Use the sorted DataFrame (ts_df_sorted) here\n",
    "    print(\"Aggregating posts per hour...\")\n",
    "    posts_per_hour = ts_df_sorted.group_by_dynamic(\n",
    "        index_column=\"post_timestamp\",\n",
    "        every=\"1h\", # Aggregate into 1-hour bins\n",
    "        # Optional: include_boundaries=True can sometimes help with edge cases\n",
    "    ).agg(\n",
    "        # Use pl.len() instead of pl.count() as recommended by the warning\n",
    "        pl.len().alias('post_count') # Count posts in each bin\n",
    "    ).sort(\"post_timestamp\") # Sorting again after aggregation is good practice\n",
    "    print(\"Aggregation complete.\")\n",
    "\n",
    "    print(\"\\nAggregated posts per hour (first 5 rows):\")\n",
    "    print(posts_per_hour.head())\n",
    "\n",
    "    # --- Create Interactive Plot ---\n",
    "    print(\"Creating plot...\")\n",
    "    fig = px.line(posts_per_hour.to_pandas(), # Plotly often works well with Pandas DataFrames\n",
    "                  x='post_timestamp',\n",
    "                  y='post_count',\n",
    "                  title='Posts Per Hour on Truth Social Sample',\n",
    "                  labels={'post_timestamp': 'Time', 'post_count': 'Number of Posts'})\n",
    "\n",
    "    fig.show() # Display the plot in the notebook\n",
    "    print(\"Plot displayed.\")\n",
    "\n",
    "    # Optional: Save the plot as an HTML file\n",
    "    # fig.write_html(\"posts_per_hour_plot.html\")\n",
    "    # print(\"\\nPlot saved as posts_per_hour_plot.html\")\n",
    "\n",
    "except Exception as e:\n",
    "    print(f\"An error occurred: {e}\")"
   ],
   "id": "b0969c60156aa7e7",
   "outputs": [
    {
     "name": "stdout",
     "output_type": "stream",
     "text": [
      "Sorting data by post_timestamp...\n",
      "Sorting complete.\n",
      "Aggregating posts per hour...\n",
      "Aggregation complete.\n",
      "\n",
      "Aggregated posts per hour (first 5 rows):\n",
      "shape: (5, 2)\n",
      "┌─────────────────────────┬────────────┐\n",
      "│ post_timestamp          ┆ post_count │\n",
      "│ ---                     ┆ ---        │\n",
      "│ datetime[μs, UTC]       ┆ u32        │\n",
      "╞═════════════════════════╪════════════╡\n",
      "│ 2025-01-27 05:00:00 UTC ┆ 64         │\n",
      "│ 2025-01-27 06:00:00 UTC ┆ 35         │\n",
      "│ 2025-01-27 07:00:00 UTC ┆ 13         │\n",
      "│ 2025-01-27 08:00:00 UTC ┆ 20         │\n",
      "│ 2025-01-27 09:00:00 UTC ┆ 29         │\n",
      "└─────────────────────────┴────────────┘\n",
      "Creating plot...\n"
     ]
    },
    {
     "data": {
      "application/vnd.plotly.v1+json": {
       "data": [
        {
         "hovertemplate": "Time=%{x}<br>Number of Posts=%{y}<extra></extra>",
         "legendgroup": "",
         "line": {
          "color": "#636efa",
          "dash": "solid"
         },
         "marker": {
          "symbol": "circle"
         },
         "mode": "lines",
         "name": "",
         "orientation": "v",
         "showlegend": false,
         "x": [
          "2025-01-27T05:00:00.000000",
          "2025-01-27T06:00:00.000000",
          "2025-01-27T07:00:00.000000",
          "2025-01-27T08:00:00.000000",
          "2025-01-27T09:00:00.000000",
          "2025-01-27T10:00:00.000000",
          "2025-01-27T11:00:00.000000",
          "2025-01-27T12:00:00.000000",
          "2025-01-27T13:00:00.000000",
          "2025-01-27T14:00:00.000000",
          "2025-01-27T15:00:00.000000",
          "2025-01-27T16:00:00.000000",
          "2025-01-27T17:00:00.000000",
          "2025-01-27T18:00:00.000000",
          "2025-01-27T19:00:00.000000",
          "2025-01-27T20:00:00.000000",
          "2025-01-27T21:00:00.000000",
          "2025-01-27T22:00:00.000000",
          "2025-01-27T23:00:00.000000",
          "2025-01-28T00:00:00.000000",
          "2025-01-28T01:00:00.000000",
          "2025-01-28T02:00:00.000000",
          "2025-01-28T03:00:00.000000",
          "2025-01-28T04:00:00.000000",
          "2025-01-28T05:00:00.000000",
          "2025-01-28T06:00:00.000000",
          "2025-01-28T07:00:00.000000",
          "2025-01-28T08:00:00.000000",
          "2025-01-28T09:00:00.000000",
          "2025-01-28T10:00:00.000000",
          "2025-01-28T11:00:00.000000",
          "2025-01-28T12:00:00.000000",
          "2025-01-28T13:00:00.000000",
          "2025-01-28T14:00:00.000000",
          "2025-01-28T15:00:00.000000",
          "2025-01-28T16:00:00.000000",
          "2025-01-28T17:00:00.000000",
          "2025-01-28T18:00:00.000000",
          "2025-01-28T19:00:00.000000",
          "2025-01-28T20:00:00.000000",
          "2025-01-28T21:00:00.000000",
          "2025-01-28T22:00:00.000000",
          "2025-01-28T23:00:00.000000",
          "2025-01-29T00:00:00.000000",
          "2025-01-29T01:00:00.000000",
          "2025-01-29T02:00:00.000000",
          "2025-01-29T03:00:00.000000",
          "2025-01-29T04:00:00.000000",
          "2025-01-29T05:00:00.000000",
          "2025-01-29T06:00:00.000000",
          "2025-01-29T07:00:00.000000",
          "2025-01-29T08:00:00.000000",
          "2025-01-29T09:00:00.000000",
          "2025-01-29T10:00:00.000000",
          "2025-01-29T11:00:00.000000",
          "2025-01-29T12:00:00.000000",
          "2025-01-29T13:00:00.000000",
          "2025-01-29T14:00:00.000000",
          "2025-01-29T15:00:00.000000",
          "2025-01-29T16:00:00.000000",
          "2025-01-29T17:00:00.000000",
          "2025-01-29T18:00:00.000000",
          "2025-01-29T19:00:00.000000",
          "2025-01-29T20:00:00.000000",
          "2025-01-29T21:00:00.000000",
          "2025-01-29T22:00:00.000000",
          "2025-01-29T23:00:00.000000",
          "2025-01-30T00:00:00.000000",
          "2025-01-30T01:00:00.000000",
          "2025-01-30T02:00:00.000000",
          "2025-01-30T03:00:00.000000",
          "2025-01-30T04:00:00.000000",
          "2025-01-30T05:00:00.000000",
          "2025-01-30T06:00:00.000000",
          "2025-01-30T07:00:00.000000",
          "2025-01-30T08:00:00.000000",
          "2025-01-30T09:00:00.000000",
          "2025-01-30T10:00:00.000000",
          "2025-01-30T11:00:00.000000",
          "2025-01-30T12:00:00.000000",
          "2025-01-30T13:00:00.000000",
          "2025-01-30T14:00:00.000000",
          "2025-01-30T15:00:00.000000",
          "2025-01-30T16:00:00.000000",
          "2025-01-30T17:00:00.000000",
          "2025-01-30T18:00:00.000000",
          "2025-01-30T19:00:00.000000",
          "2025-01-30T20:00:00.000000",
          "2025-01-30T21:00:00.000000",
          "2025-01-30T22:00:00.000000",
          "2025-01-30T23:00:00.000000",
          "2025-01-31T00:00:00.000000",
          "2025-01-31T01:00:00.000000",
          "2025-01-31T02:00:00.000000",
          "2025-01-31T03:00:00.000000",
          "2025-01-31T04:00:00.000000",
          "2025-01-31T05:00:00.000000",
          "2025-01-31T06:00:00.000000",
          "2025-01-31T07:00:00.000000",
          "2025-01-31T08:00:00.000000",
          "2025-01-31T09:00:00.000000",
          "2025-01-31T10:00:00.000000",
          "2025-01-31T11:00:00.000000",
          "2025-01-31T12:00:00.000000",
          "2025-01-31T13:00:00.000000",
          "2025-01-31T14:00:00.000000",
          "2025-01-31T15:00:00.000000",
          "2025-01-31T16:00:00.000000",
          "2025-01-31T17:00:00.000000",
          "2025-01-31T18:00:00.000000",
          "2025-01-31T19:00:00.000000",
          "2025-01-31T20:00:00.000000",
          "2025-01-31T21:00:00.000000",
          "2025-01-31T22:00:00.000000",
          "2025-01-31T23:00:00.000000",
          "2025-02-01T00:00:00.000000",
          "2025-02-01T01:00:00.000000",
          "2025-02-01T02:00:00.000000",
          "2025-02-01T03:00:00.000000",
          "2025-02-01T04:00:00.000000",
          "2025-02-01T05:00:00.000000",
          "2025-02-01T06:00:00.000000",
          "2025-02-01T07:00:00.000000",
          "2025-02-01T08:00:00.000000",
          "2025-02-01T09:00:00.000000",
          "2025-02-01T10:00:00.000000",
          "2025-02-01T11:00:00.000000",
          "2025-02-01T12:00:00.000000",
          "2025-02-01T13:00:00.000000",
          "2025-02-01T14:00:00.000000",
          "2025-02-01T15:00:00.000000",
          "2025-02-01T16:00:00.000000",
          "2025-02-01T17:00:00.000000",
          "2025-02-01T18:00:00.000000",
          "2025-02-01T19:00:00.000000",
          "2025-02-01T20:00:00.000000",
          "2025-02-01T21:00:00.000000",
          "2025-02-01T22:00:00.000000",
          "2025-02-01T23:00:00.000000",
          "2025-02-02T00:00:00.000000",
          "2025-02-02T01:00:00.000000",
          "2025-02-02T02:00:00.000000",
          "2025-02-02T03:00:00.000000",
          "2025-02-02T04:00:00.000000",
          "2025-02-02T05:00:00.000000",
          "2025-02-02T06:00:00.000000",
          "2025-02-02T07:00:00.000000",
          "2025-02-02T08:00:00.000000",
          "2025-02-02T09:00:00.000000",
          "2025-02-02T10:00:00.000000",
          "2025-02-02T11:00:00.000000",
          "2025-02-02T12:00:00.000000",
          "2025-02-02T13:00:00.000000",
          "2025-02-02T14:00:00.000000",
          "2025-02-02T15:00:00.000000",
          "2025-02-02T16:00:00.000000",
          "2025-02-02T17:00:00.000000",
          "2025-02-02T18:00:00.000000",
          "2025-02-02T19:00:00.000000",
          "2025-02-02T20:00:00.000000",
          "2025-02-02T21:00:00.000000",
          "2025-02-02T22:00:00.000000",
          "2025-02-02T23:00:00.000000",
          "2025-02-03T00:00:00.000000",
          "2025-02-03T01:00:00.000000",
          "2025-02-03T02:00:00.000000",
          "2025-02-03T03:00:00.000000",
          "2025-02-03T04:00:00.000000",
          "2025-02-03T05:00:00.000000",
          "2025-02-03T06:00:00.000000",
          "2025-02-03T07:00:00.000000",
          "2025-02-03T08:00:00.000000",
          "2025-02-03T09:00:00.000000",
          "2025-02-03T10:00:00.000000",
          "2025-02-03T11:00:00.000000",
          "2025-02-03T12:00:00.000000",
          "2025-02-03T13:00:00.000000",
          "2025-02-03T14:00:00.000000",
          "2025-02-03T15:00:00.000000",
          "2025-02-03T16:00:00.000000",
          "2025-02-03T17:00:00.000000",
          "2025-02-03T18:00:00.000000",
          "2025-02-03T19:00:00.000000",
          "2025-02-03T20:00:00.000000",
          "2025-02-03T21:00:00.000000",
          "2025-02-03T22:00:00.000000",
          "2025-02-03T23:00:00.000000",
          "2025-02-04T00:00:00.000000",
          "2025-02-04T01:00:00.000000",
          "2025-02-04T02:00:00.000000",
          "2025-02-04T03:00:00.000000",
          "2025-02-04T04:00:00.000000",
          "2025-02-04T05:00:00.000000",
          "2025-02-04T06:00:00.000000",
          "2025-02-04T07:00:00.000000",
          "2025-02-04T08:00:00.000000",
          "2025-02-04T09:00:00.000000",
          "2025-02-04T10:00:00.000000",
          "2025-02-04T11:00:00.000000",
          "2025-02-04T12:00:00.000000",
          "2025-02-04T13:00:00.000000",
          "2025-02-04T14:00:00.000000",
          "2025-02-04T15:00:00.000000",
          "2025-02-04T16:00:00.000000",
          "2025-02-04T17:00:00.000000",
          "2025-02-04T18:00:00.000000",
          "2025-02-04T19:00:00.000000",
          "2025-02-04T20:00:00.000000",
          "2025-02-04T21:00:00.000000",
          "2025-02-04T22:00:00.000000",
          "2025-02-04T23:00:00.000000",
          "2025-02-05T00:00:00.000000",
          "2025-02-05T01:00:00.000000",
          "2025-02-05T02:00:00.000000",
          "2025-02-05T03:00:00.000000",
          "2025-02-05T04:00:00.000000",
          "2025-02-05T05:00:00.000000",
          "2025-02-05T06:00:00.000000",
          "2025-02-05T07:00:00.000000",
          "2025-02-05T08:00:00.000000",
          "2025-02-05T09:00:00.000000",
          "2025-02-05T10:00:00.000000",
          "2025-02-05T11:00:00.000000",
          "2025-02-05T12:00:00.000000",
          "2025-02-05T13:00:00.000000",
          "2025-02-05T14:00:00.000000",
          "2025-02-05T15:00:00.000000",
          "2025-02-05T16:00:00.000000",
          "2025-02-05T17:00:00.000000",
          "2025-02-05T18:00:00.000000",
          "2025-02-05T19:00:00.000000",
          "2025-02-05T20:00:00.000000",
          "2025-02-05T21:00:00.000000",
          "2025-02-05T22:00:00.000000",
          "2025-02-05T23:00:00.000000",
          "2025-02-06T00:00:00.000000",
          "2025-02-06T01:00:00.000000",
          "2025-02-06T02:00:00.000000",
          "2025-02-06T03:00:00.000000",
          "2025-02-06T04:00:00.000000",
          "2025-02-06T05:00:00.000000",
          "2025-02-06T06:00:00.000000",
          "2025-02-06T07:00:00.000000",
          "2025-02-06T08:00:00.000000",
          "2025-02-06T09:00:00.000000",
          "2025-02-06T10:00:00.000000",
          "2025-02-06T11:00:00.000000",
          "2025-02-06T12:00:00.000000",
          "2025-02-06T13:00:00.000000",
          "2025-02-06T14:00:00.000000",
          "2025-02-06T15:00:00.000000",
          "2025-02-06T16:00:00.000000",
          "2025-02-06T17:00:00.000000",
          "2025-02-06T18:00:00.000000",
          "2025-02-06T19:00:00.000000",
          "2025-02-06T20:00:00.000000",
          "2025-02-06T21:00:00.000000",
          "2025-02-06T22:00:00.000000",
          "2025-02-06T23:00:00.000000",
          "2025-02-07T00:00:00.000000",
          "2025-02-07T01:00:00.000000",
          "2025-02-07T02:00:00.000000",
          "2025-02-07T03:00:00.000000",
          "2025-02-07T04:00:00.000000",
          "2025-02-07T05:00:00.000000",
          "2025-02-07T06:00:00.000000",
          "2025-02-07T07:00:00.000000",
          "2025-02-07T08:00:00.000000",
          "2025-02-07T09:00:00.000000",
          "2025-02-07T10:00:00.000000",
          "2025-02-07T11:00:00.000000",
          "2025-02-07T12:00:00.000000",
          "2025-02-07T13:00:00.000000",
          "2025-02-07T14:00:00.000000",
          "2025-02-07T15:00:00.000000",
          "2025-02-07T16:00:00.000000",
          "2025-02-07T17:00:00.000000",
          "2025-02-07T18:00:00.000000",
          "2025-02-07T19:00:00.000000",
          "2025-02-07T20:00:00.000000",
          "2025-02-07T21:00:00.000000",
          "2025-02-07T22:00:00.000000",
          "2025-02-07T23:00:00.000000",
          "2025-02-08T00:00:00.000000",
          "2025-02-08T01:00:00.000000",
          "2025-02-08T02:00:00.000000",
          "2025-02-08T03:00:00.000000",
          "2025-02-08T04:00:00.000000",
          "2025-02-08T05:00:00.000000",
          "2025-02-08T06:00:00.000000",
          "2025-02-08T07:00:00.000000",
          "2025-02-08T08:00:00.000000",
          "2025-02-08T09:00:00.000000",
          "2025-02-08T10:00:00.000000",
          "2025-02-08T11:00:00.000000",
          "2025-02-08T12:00:00.000000",
          "2025-02-08T13:00:00.000000",
          "2025-02-08T14:00:00.000000",
          "2025-02-08T15:00:00.000000",
          "2025-02-08T16:00:00.000000",
          "2025-02-08T17:00:00.000000",
          "2025-02-08T18:00:00.000000",
          "2025-02-08T19:00:00.000000",
          "2025-02-08T20:00:00.000000",
          "2025-02-08T21:00:00.000000",
          "2025-02-08T22:00:00.000000",
          "2025-02-08T23:00:00.000000",
          "2025-02-09T00:00:00.000000",
          "2025-02-09T01:00:00.000000",
          "2025-02-09T02:00:00.000000",
          "2025-02-09T03:00:00.000000",
          "2025-02-09T04:00:00.000000",
          "2025-02-09T05:00:00.000000",
          "2025-02-09T06:00:00.000000",
          "2025-02-09T07:00:00.000000",
          "2025-02-09T08:00:00.000000",
          "2025-02-09T09:00:00.000000",
          "2025-02-09T10:00:00.000000",
          "2025-02-09T11:00:00.000000",
          "2025-02-09T12:00:00.000000",
          "2025-02-09T13:00:00.000000",
          "2025-02-09T14:00:00.000000",
          "2025-02-09T15:00:00.000000",
          "2025-02-09T16:00:00.000000",
          "2025-02-09T17:00:00.000000",
          "2025-02-09T18:00:00.000000",
          "2025-02-09T19:00:00.000000",
          "2025-02-09T20:00:00.000000",
          "2025-02-09T21:00:00.000000",
          "2025-02-09T22:00:00.000000",
          "2025-02-09T23:00:00.000000",
          "2025-02-10T00:00:00.000000",
          "2025-02-10T01:00:00.000000",
          "2025-02-10T02:00:00.000000",
          "2025-02-10T03:00:00.000000",
          "2025-02-10T04:00:00.000000",
          "2025-02-10T05:00:00.000000",
          "2025-02-10T06:00:00.000000",
          "2025-02-10T07:00:00.000000",
          "2025-02-10T08:00:00.000000",
          "2025-02-10T09:00:00.000000",
          "2025-02-10T10:00:00.000000",
          "2025-02-10T11:00:00.000000",
          "2025-02-10T12:00:00.000000",
          "2025-02-10T13:00:00.000000",
          "2025-02-10T14:00:00.000000",
          "2025-02-10T15:00:00.000000",
          "2025-02-10T16:00:00.000000",
          "2025-02-10T17:00:00.000000",
          "2025-02-10T18:00:00.000000",
          "2025-02-10T19:00:00.000000",
          "2025-02-10T20:00:00.000000",
          "2025-02-10T21:00:00.000000",
          "2025-02-10T22:00:00.000000",
          "2025-02-10T23:00:00.000000",
          "2025-02-11T00:00:00.000000",
          "2025-02-11T01:00:00.000000",
          "2025-02-11T02:00:00.000000",
          "2025-02-11T03:00:00.000000",
          "2025-02-11T04:00:00.000000",
          "2025-02-11T05:00:00.000000",
          "2025-02-11T06:00:00.000000",
          "2025-02-11T07:00:00.000000",
          "2025-02-11T08:00:00.000000",
          "2025-02-11T09:00:00.000000",
          "2025-02-11T10:00:00.000000",
          "2025-02-11T11:00:00.000000",
          "2025-02-11T12:00:00.000000",
          "2025-02-11T13:00:00.000000",
          "2025-02-11T14:00:00.000000",
          "2025-02-11T15:00:00.000000",
          "2025-02-11T16:00:00.000000",
          "2025-02-11T17:00:00.000000",
          "2025-02-11T18:00:00.000000",
          "2025-02-11T19:00:00.000000",
          "2025-02-11T20:00:00.000000",
          "2025-02-11T21:00:00.000000",
          "2025-02-11T22:00:00.000000",
          "2025-02-11T23:00:00.000000",
          "2025-02-12T00:00:00.000000",
          "2025-02-12T01:00:00.000000",
          "2025-02-12T02:00:00.000000",
          "2025-02-12T03:00:00.000000",
          "2025-02-12T04:00:00.000000",
          "2025-02-12T05:00:00.000000",
          "2025-02-12T06:00:00.000000",
          "2025-02-12T07:00:00.000000",
          "2025-02-12T08:00:00.000000",
          "2025-02-12T09:00:00.000000",
          "2025-02-12T10:00:00.000000",
          "2025-02-12T11:00:00.000000",
          "2025-02-12T12:00:00.000000",
          "2025-02-12T13:00:00.000000",
          "2025-02-12T14:00:00.000000",
          "2025-02-12T15:00:00.000000",
          "2025-02-12T16:00:00.000000",
          "2025-02-12T17:00:00.000000",
          "2025-02-12T18:00:00.000000",
          "2025-02-12T19:00:00.000000",
          "2025-02-12T20:00:00.000000",
          "2025-02-12T21:00:00.000000",
          "2025-02-12T22:00:00.000000",
          "2025-02-12T23:00:00.000000",
          "2025-02-13T00:00:00.000000",
          "2025-02-13T01:00:00.000000",
          "2025-02-13T02:00:00.000000",
          "2025-02-13T03:00:00.000000",
          "2025-02-13T04:00:00.000000",
          "2025-02-13T05:00:00.000000",
          "2025-02-13T06:00:00.000000",
          "2025-02-13T07:00:00.000000",
          "2025-02-13T08:00:00.000000",
          "2025-02-13T09:00:00.000000",
          "2025-02-13T10:00:00.000000",
          "2025-02-13T11:00:00.000000",
          "2025-02-13T12:00:00.000000",
          "2025-02-13T13:00:00.000000",
          "2025-02-13T14:00:00.000000",
          "2025-02-13T15:00:00.000000",
          "2025-02-13T16:00:00.000000",
          "2025-02-13T17:00:00.000000",
          "2025-02-13T18:00:00.000000",
          "2025-02-13T19:00:00.000000",
          "2025-02-13T20:00:00.000000",
          "2025-02-13T21:00:00.000000",
          "2025-02-13T22:00:00.000000",
          "2025-02-13T23:00:00.000000",
          "2025-02-14T00:00:00.000000",
          "2025-02-14T01:00:00.000000",
          "2025-02-14T02:00:00.000000",
          "2025-02-14T03:00:00.000000",
          "2025-02-14T04:00:00.000000",
          "2025-02-14T05:00:00.000000",
          "2025-02-14T06:00:00.000000",
          "2025-02-14T07:00:00.000000",
          "2025-02-14T08:00:00.000000",
          "2025-02-14T09:00:00.000000",
          "2025-02-14T10:00:00.000000",
          "2025-02-14T11:00:00.000000",
          "2025-02-14T12:00:00.000000",
          "2025-02-14T13:00:00.000000",
          "2025-02-14T14:00:00.000000",
          "2025-02-14T15:00:00.000000",
          "2025-02-14T16:00:00.000000",
          "2025-02-14T17:00:00.000000",
          "2025-02-14T18:00:00.000000",
          "2025-02-14T19:00:00.000000",
          "2025-02-14T20:00:00.000000",
          "2025-02-14T21:00:00.000000",
          "2025-02-14T22:00:00.000000",
          "2025-02-14T23:00:00.000000",
          "2025-02-15T00:00:00.000000",
          "2025-02-15T01:00:00.000000",
          "2025-02-15T02:00:00.000000",
          "2025-02-15T03:00:00.000000",
          "2025-02-15T04:00:00.000000",
          "2025-02-15T05:00:00.000000",
          "2025-02-15T06:00:00.000000",
          "2025-02-15T07:00:00.000000",
          "2025-02-15T08:00:00.000000",
          "2025-02-15T09:00:00.000000",
          "2025-02-15T10:00:00.000000",
          "2025-02-15T11:00:00.000000",
          "2025-02-15T12:00:00.000000",
          "2025-02-15T13:00:00.000000",
          "2025-02-15T14:00:00.000000",
          "2025-02-15T15:00:00.000000",
          "2025-02-15T16:00:00.000000",
          "2025-02-15T17:00:00.000000",
          "2025-02-15T18:00:00.000000",
          "2025-02-15T19:00:00.000000",
          "2025-02-15T20:00:00.000000",
          "2025-02-15T21:00:00.000000",
          "2025-02-15T22:00:00.000000",
          "2025-02-15T23:00:00.000000",
          "2025-02-16T00:00:00.000000",
          "2025-02-16T01:00:00.000000",
          "2025-02-16T02:00:00.000000",
          "2025-02-16T03:00:00.000000",
          "2025-02-16T04:00:00.000000"
         ],
         "xaxis": "x",
         "y": {
          "dtype": "u4",
          "bdata": "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"
         },
         "yaxis": "y",
         "type": "scatter"
        }
       ],
       "layout": {
        "template": {
         "data": {
          "histogram2dcontour": [
           {
            "type": "histogram2dcontour",
            "colorbar": {
             "outlinewidth": 0,
             "ticks": ""
            },
            "colorscale": [
             [
              0.0,
              "#0d0887"
             ],
             [
              0.1111111111111111,
              "#46039f"
             ],
             [
              0.2222222222222222,
              "#7201a8"
             ],
             [
              0.3333333333333333,
              "#9c179e"
             ],
             [
              0.4444444444444444,
              "#bd3786"
             ],
             [
              0.5555555555555556,
              "#d8576b"
             ],
             [
              0.6666666666666666,
              "#ed7953"
             ],
             [
              0.7777777777777778,
              "#fb9f3a"
             ],
             [
              0.8888888888888888,
              "#fdca26"
             ],
             [
              1.0,
              "#f0f921"
             ]
            ]
           }
          ],
          "choropleth": [
           {
            "type": "choropleth",
            "colorbar": {
             "outlinewidth": 0,
             "ticks": ""
            }
           }
          ],
          "histogram2d": [
           {
            "type": "histogram2d",
            "colorbar": {
             "outlinewidth": 0,
             "ticks": ""
            },
            "colorscale": [
             [
              0.0,
              "#0d0887"
             ],
             [
              0.1111111111111111,
              "#46039f"
             ],
             [
              0.2222222222222222,
              "#7201a8"
             ],
             [
              0.3333333333333333,
              "#9c179e"
             ],
             [
              0.4444444444444444,
              "#bd3786"
             ],
             [
              0.5555555555555556,
              "#d8576b"
             ],
             [
              0.6666666666666666,
              "#ed7953"
             ],
             [
              0.7777777777777778,
              "#fb9f3a"
             ],
             [
              0.8888888888888888,
              "#fdca26"
             ],
             [
              1.0,
              "#f0f921"
             ]
            ]
           }
          ],
          "heatmap": [
           {
            "type": "heatmap",
            "colorbar": {
             "outlinewidth": 0,
             "ticks": ""
            },
            "colorscale": [
             [
              0.0,
              "#0d0887"
             ],
             [
              0.1111111111111111,
              "#46039f"
             ],
             [
              0.2222222222222222,
              "#7201a8"
             ],
             [
              0.3333333333333333,
              "#9c179e"
             ],
             [
              0.4444444444444444,
              "#bd3786"
             ],
             [
              0.5555555555555556,
              "#d8576b"
             ],
             [
              0.6666666666666666,
              "#ed7953"
             ],
             [
              0.7777777777777778,
              "#fb9f3a"
             ],
             [
              0.8888888888888888,
              "#fdca26"
             ],
             [
              1.0,
              "#f0f921"
             ]
            ]
           }
          ],
          "contourcarpet": [
           {
            "type": "contourcarpet",
            "colorbar": {
             "outlinewidth": 0,
             "ticks": ""
            }
           }
          ],
          "contour": [
           {
            "type": "contour",
            "colorbar": {
             "outlinewidth": 0,
             "ticks": ""
            },
            "colorscale": [
             [
              0.0,
              "#0d0887"
             ],
             [
              0.1111111111111111,
              "#46039f"
             ],
             [
              0.2222222222222222,
              "#7201a8"
             ],
             [
              0.3333333333333333,
              "#9c179e"
             ],
             [
              0.4444444444444444,
              "#bd3786"
             ],
             [
              0.5555555555555556,
              "#d8576b"
             ],
             [
              0.6666666666666666,
              "#ed7953"
             ],
             [
              0.7777777777777778,
              "#fb9f3a"
             ],
             [
              0.8888888888888888,
              "#fdca26"
             ],
             [
              1.0,
              "#f0f921"
             ]
            ]
           }
          ],
          "surface": [
           {
            "type": "surface",
            "colorbar": {
             "outlinewidth": 0,
             "ticks": ""
            },
            "colorscale": [
             [
              0.0,
              "#0d0887"
             ],
             [
              0.1111111111111111,
              "#46039f"
             ],
             [
              0.2222222222222222,
              "#7201a8"
             ],
             [
              0.3333333333333333,
              "#9c179e"
             ],
             [
              0.4444444444444444,
              "#bd3786"
             ],
             [
              0.5555555555555556,
              "#d8576b"
             ],
             [
              0.6666666666666666,
              "#ed7953"
             ],
             [
              0.7777777777777778,
              "#fb9f3a"
             ],
             [
              0.8888888888888888,
              "#fdca26"
             ],
             [
              1.0,
              "#f0f921"
             ]
            ]
           }
          ],
          "mesh3d": [
           {
            "type": "mesh3d",
            "colorbar": {
             "outlinewidth": 0,
             "ticks": ""
            }
           }
          ],
          "scatter": [
           {
            "marker": {
             "line": {
              "color": "#283442"
             }
            },
            "type": "scatter"
           }
          ],
          "parcoords": [
           {
            "type": "parcoords",
            "line": {
             "colorbar": {
              "outlinewidth": 0,
              "ticks": ""
             }
            }
           }
          ],
          "scatterpolargl": [
           {
            "type": "scatterpolargl",
            "marker": {
             "colorbar": {
              "outlinewidth": 0,
              "ticks": ""
             }
            }
           }
          ],
          "bar": [
           {
            "error_x": {
             "color": "#f2f5fa"
            },
            "error_y": {
             "color": "#f2f5fa"
            },
            "marker": {
             "line": {
              "color": "rgb(17,17,17)",
              "width": 0.5
             },
             "pattern": {
              "fillmode": "overlay",
              "size": 10,
              "solidity": 0.2
             }
            },
            "type": "bar"
           }
          ],
          "scattergeo": [
           {
            "type": "scattergeo",
            "marker": {
             "colorbar": {
              "outlinewidth": 0,
              "ticks": ""
             }
            }
           }
          ],
          "scatterpolar": [
           {
            "type": "scatterpolar",
            "marker": {
             "colorbar": {
              "outlinewidth": 0,
              "ticks": ""
             }
            }
           }
          ],
          "histogram": [
           {
            "marker": {
             "pattern": {
              "fillmode": "overlay",
              "size": 10,
              "solidity": 0.2
             }
            },
            "type": "histogram"
           }
          ],
          "scattergl": [
           {
            "marker": {
             "line": {
              "color": "#283442"
             }
            },
            "type": "scattergl"
           }
          ],
          "scatter3d": [
           {
            "type": "scatter3d",
            "line": {
             "colorbar": {
              "outlinewidth": 0,
              "ticks": ""
             }
            },
            "marker": {
             "colorbar": {
              "outlinewidth": 0,
              "ticks": ""
             }
            }
           }
          ],
          "scattermap": [
           {
            "type": "scattermap",
            "marker": {
             "colorbar": {
              "outlinewidth": 0,
              "ticks": ""
             }
            }
           }
          ],
          "scattermapbox": [
           {
            "type": "scattermapbox",
            "marker": {
             "colorbar": {
              "outlinewidth": 0,
              "ticks": ""
             }
            }
           }
          ],
          "scatterternary": [
           {
            "type": "scatterternary",
            "marker": {
             "colorbar": {
              "outlinewidth": 0,
              "ticks": ""
             }
            }
           }
          ],
          "scattercarpet": [
           {
            "type": "scattercarpet",
            "marker": {
             "colorbar": {
              "outlinewidth": 0,
              "ticks": ""
             }
            }
           }
          ],
          "carpet": [
           {
            "aaxis": {
             "endlinecolor": "#A2B1C6",
             "gridcolor": "#506784",
             "linecolor": "#506784",
             "minorgridcolor": "#506784",
             "startlinecolor": "#A2B1C6"
            },
            "baxis": {
             "endlinecolor": "#A2B1C6",
             "gridcolor": "#506784",
             "linecolor": "#506784",
             "minorgridcolor": "#506784",
             "startlinecolor": "#A2B1C6"
            },
            "type": "carpet"
           }
          ],
          "table": [
           {
            "cells": {
             "fill": {
              "color": "#506784"
             },
             "line": {
              "color": "rgb(17,17,17)"
             }
            },
            "header": {
             "fill": {
              "color": "#2a3f5f"
             },
             "line": {
              "color": "rgb(17,17,17)"
             }
            },
            "type": "table"
           }
          ],
          "barpolar": [
           {
            "marker": {
             "line": {
              "color": "rgb(17,17,17)",
              "width": 0.5
             },
             "pattern": {
              "fillmode": "overlay",
              "size": 10,
              "solidity": 0.2
             }
            },
            "type": "barpolar"
           }
          ],
          "pie": [
           {
            "automargin": true,
            "type": "pie"
           }
          ]
         },
         "layout": {
          "autotypenumbers": "strict",
          "colorway": [
           "#636efa",
           "#EF553B",
           "#00cc96",
           "#ab63fa",
           "#FFA15A",
           "#19d3f3",
           "#FF6692",
           "#B6E880",
           "#FF97FF",
           "#FECB52"
          ],
          "font": {
           "color": "#f2f5fa"
          },
          "hovermode": "closest",
          "hoverlabel": {
           "align": "left"
          },
          "paper_bgcolor": "rgb(17,17,17)",
          "plot_bgcolor": "rgb(17,17,17)",
          "polar": {
           "bgcolor": "rgb(17,17,17)",
           "angularaxis": {
            "gridcolor": "#506784",
            "linecolor": "#506784",
            "ticks": ""
           },
           "radialaxis": {
            "gridcolor": "#506784",
            "linecolor": "#506784",
            "ticks": ""
           }
          },
          "ternary": {
           "bgcolor": "rgb(17,17,17)",
           "aaxis": {
            "gridcolor": "#506784",
            "linecolor": "#506784",
            "ticks": ""
           },
           "baxis": {
            "gridcolor": "#506784",
            "linecolor": "#506784",
            "ticks": ""
           },
           "caxis": {
            "gridcolor": "#506784",
            "linecolor": "#506784",
            "ticks": ""
           }
          },
          "coloraxis": {
           "colorbar": {
            "outlinewidth": 0,
            "ticks": ""
           }
          },
          "colorscale": {
           "sequential": [
            [
             0.0,
             "#0d0887"
            ],
            [
             0.1111111111111111,
             "#46039f"
            ],
            [
             0.2222222222222222,
             "#7201a8"
            ],
            [
             0.3333333333333333,
             "#9c179e"
            ],
            [
             0.4444444444444444,
             "#bd3786"
            ],
            [
             0.5555555555555556,
             "#d8576b"
            ],
            [
             0.6666666666666666,
             "#ed7953"
            ],
            [
             0.7777777777777778,
             "#fb9f3a"
            ],
            [
             0.8888888888888888,
             "#fdca26"
            ],
            [
             1.0,
             "#f0f921"
            ]
           ],
           "sequentialminus": [
            [
             0.0,
             "#0d0887"
            ],
            [
             0.1111111111111111,
             "#46039f"
            ],
            [
             0.2222222222222222,
             "#7201a8"
            ],
            [
             0.3333333333333333,
             "#9c179e"
            ],
            [
             0.4444444444444444,
             "#bd3786"
            ],
            [
             0.5555555555555556,
             "#d8576b"
            ],
            [
             0.6666666666666666,
             "#ed7953"
            ],
            [
             0.7777777777777778,
             "#fb9f3a"
            ],
            [
             0.8888888888888888,
             "#fdca26"
            ],
            [
             1.0,
             "#f0f921"
            ]
           ],
           "diverging": [
            [
             0,
             "#8e0152"
            ],
            [
             0.1,
             "#c51b7d"
            ],
            [
             0.2,
             "#de77ae"
            ],
            [
             0.3,
             "#f1b6da"
            ],
            [
             0.4,
             "#fde0ef"
            ],
            [
             0.5,
             "#f7f7f7"
            ],
            [
             0.6,
             "#e6f5d0"
            ],
            [
             0.7,
             "#b8e186"
            ],
            [
             0.8,
             "#7fbc41"
            ],
            [
             0.9,
             "#4d9221"
            ],
            [
             1,
             "#276419"
            ]
           ]
          },
          "xaxis": {
           "gridcolor": "#283442",
           "linecolor": "#506784",
           "ticks": "",
           "title": {
            "standoff": 15
           },
           "zerolinecolor": "#283442",
           "automargin": true,
           "zerolinewidth": 2
          },
          "yaxis": {
           "gridcolor": "#283442",
           "linecolor": "#506784",
           "ticks": "",
           "title": {
            "standoff": 15
           },
           "zerolinecolor": "#283442",
           "automargin": true,
           "zerolinewidth": 2
          },
          "scene": {
           "xaxis": {
            "backgroundcolor": "rgb(17,17,17)",
            "gridcolor": "#506784",
            "linecolor": "#506784",
            "showbackground": true,
            "ticks": "",
            "zerolinecolor": "#C8D4E3",
            "gridwidth": 2
           },
           "yaxis": {
            "backgroundcolor": "rgb(17,17,17)",
            "gridcolor": "#506784",
            "linecolor": "#506784",
            "showbackground": true,
            "ticks": "",
            "zerolinecolor": "#C8D4E3",
            "gridwidth": 2
           },
           "zaxis": {
            "backgroundcolor": "rgb(17,17,17)",
            "gridcolor": "#506784",
            "linecolor": "#506784",
            "showbackground": true,
            "ticks": "",
            "zerolinecolor": "#C8D4E3",
            "gridwidth": 2
           }
          },
          "shapedefaults": {
           "line": {
            "color": "#f2f5fa"
           }
          },
          "annotationdefaults": {
           "arrowcolor": "#f2f5fa",
           "arrowhead": 0,
           "arrowwidth": 1
          },
          "geo": {
           "bgcolor": "rgb(17,17,17)",
           "landcolor": "rgb(17,17,17)",
           "subunitcolor": "#506784",
           "showland": true,
           "showlakes": true,
           "lakecolor": "rgb(17,17,17)"
          },
          "title": {
           "x": 0.05
          },
          "updatemenudefaults": {
           "bgcolor": "#506784",
           "borderwidth": 0
          },
          "sliderdefaults": {
           "bgcolor": "#C8D4E3",
           "borderwidth": 1,
           "bordercolor": "rgb(17,17,17)",
           "tickwidth": 0
          },
          "mapbox": {
           "style": "dark"
          }
         }
        },
        "xaxis": {
         "anchor": "y",
         "domain": [
          0.0,
          1.0
         ],
         "title": {
          "text": "Time"
         }
        },
        "yaxis": {
         "anchor": "x",
         "domain": [
          0.0,
          1.0
         ],
         "title": {
          "text": "Number of Posts"
         }
        },
        "legend": {
         "tracegroupgap": 0
        },
        "title": {
         "text": "Posts Per Hour on Truth Social Sample"
        }
       },
       "config": {
        "plotlyServerURL": "https://plot.ly"
       }
      }
     },
     "metadata": {},
     "output_type": "display_data",
     "jetTransient": {
      "display_id": null
     }
    },
    {
     "name": "stdout",
     "output_type": "stream",
     "text": [
      "Plot displayed.\n"
     ]
    }
   ],
   "execution_count": 3
  },
  {
   "metadata": {},
   "cell_type": "markdown",
   "source": [
    "Based on the plot (\"Posts Per Hour on Truth Social Sample\"):\n",
    "\n",
    "\n",
    "- Trend: In this timeframe (approx. Jan 28 - Feb 15, 2025), there isn't a clear long-term increasing or decreasing trend . The overall level seems relatively stable, aside from fluctuations.\n",
    "\n",
    "- Seasonality: There's a very strong, repeating pattern within each day (or possibly every 24 hours). Activity peaks and then drops significantly, suggesting daily seasonality . People likely post more during certain hours and less during others (e.g., overnight). There might be a weaker weekly pattern too, but the daily one dominates.\n",
    "\n",
    "- Anomalies/Bursts: There is a particularly large spike in activity around February 13th. This peak is noticeably higher than the typical daily peaks, making it a candidate for a \"burst\"  that our burst detection algorithm might identify later. Other peaks around Jan 29/30 and Feb 4 also stand out, though less dramatically.\n",
    "\n",
    "\n",
    "- Variance: The size of the fluctuations (variance) might be slightly larger during the periods of highest activity (like Feb 13th), which could suggest the variance isn't perfectly constant. We'll keep this in mind."
   ],
   "id": "9755d92486c30f58"
  },
  {
   "metadata": {},
   "cell_type": "markdown",
   "source": [
    "**2. Autocorrelation Function (ACF)**\n",
    "\n",
    "**Why do this?** While our eyes see patterns, the Autocorrelation Function (ACF) provides a statistical measure of how correlated the time series is with lagged versions of itself . It helps us objectively confirm if the patterns we see are statistically significant or just random noise.\n",
    "\n",
    "\n",
    "- onfirming Patterns: Significant correlations at specific lags confirm the presence of non-random patterns like seasonality or cycles. For example, strong daily seasonality should show high correlation at lags 24, 48, 72, etc. (hours).\n",
    "\n",
    "\n",
    "- Checking for White Noise: If no lags (except lag 0) show significant correlation, the series might be \"white noise\" – purely random and unpredictable . Our plot clearly isn't white noise, but ACF confirms this statistically.\n",
    "\n",
    "\n",
    "**How does this affect the next step?**\n",
    "\n",
    "\n",
    "- Validation for Modeling: Confirming significant autocorrelation validates that the time series contains predictable patterns, making it suitable for modeling (like burst detection).\n",
    "\n",
    "- Identifying Seasonality: The lags with significant spikes in the ACF plot pinpoint the period of seasonality (e.g., a spike at lag 24 confirms the 24-hour pattern). This is crucial information for later modeling steps, especially if we were to use seasonal models like SARIMA.\n",
    "\n",
    "\n",
    "- Input for Order Selection: In later stages (beyond Week 1), the pattern of decay in the ACF helps in selecting appropriate orders for models like ARMA ."
   ],
   "id": "628d1c116fbaefb1"
  },
  {
   "metadata": {
    "ExecuteTime": {
     "end_time": "2025-10-29T17:43:12.561567Z",
     "start_time": "2025-10-29T17:43:11.485898Z"
    }
   },
   "cell_type": "code",
   "source": [
    "from statsmodels.graphics.tsaplots import plot_acf\n",
    "import matplotlib.pyplot as plt\n",
    "\n",
    "try:\n",
    "    # --- Calculate and Plot ACF ---\n",
    "    print(\"Calculating and plotting ACF...\")\n",
    "\n",
    "    # Determine a reasonable number of lags to check (e.g., a few days worth of hours)\n",
    "    n_lags = 7 * 24 # Check correlations up to 7 days back\n",
    "\n",
    "    fig, ax = plt.subplots(figsize=(12, 5)) # Create a plot figure\n",
    "\n",
    "    # plot_acf calculates and plots the ACF\n",
    "    # posts_per_hour['post_count'] is the series we want to analyze\n",
    "    plot_acf(posts_per_hour['post_count'], lags=n_lags, ax=ax)\n",
    "\n",
    "    ax.set_title('Autocorrelation Function (ACF) of Posts Per Hour')\n",
    "    ax.set_xlabel('Lag (Hours)')\n",
    "    ax.set_ylabel('Autocorrelation')\n",
    "    plt.grid(True)\n",
    "    plt.show() # Display the plot\n",
    "    print(\"ACF plot displayed.\")\n",
    "\n",
    "except Exception as e:\n",
    "    print(f\"An error occurred during ACF calculation/plotting: {e}\")"
   ],
   "id": "2b2497f55fc3cc78",
   "outputs": [
    {
     "name": "stdout",
     "output_type": "stream",
     "text": [
      "Calculating and plotting ACF...\n"
     ]
    },
    {
     "data": {
      "text/plain": [
       "<Figure size 1200x500 with 1 Axes>"
      ],
      "image/png": "[encoded data removed]"
     },
     "metadata": {},
     "output_type": "display_data",
     "jetTransient": {
      "display_id": null
     }
    },
    {
     "name": "stdout",
     "output_type": "stream",
     "text": [
      "ACF plot displayed.\n"
     ]
    }
   ],
   "execution_count": 4
  },
  {
   "metadata": {},
   "cell_type": "markdown",
   "source": [
    "The ACF plot provides strong statistical confirmation of the patterns we saw in the previous visualization:\n",
    "\n",
    "- Not White Noise: The plot shows many lags with correlation spikes far outside the blue confidence interval. This confirms the time series is not random noise and contains significant, predictable patterns.\n",
    "\n",
    "- Strong Daily Seasonality: There are very prominent, significant positive spikes at lags 24, 48, 72, 96, 120, 144, and 168. This is a classic signature of a strong 24-hour (daily) seasonal pattern. It means the number of posts at any given hour is highly correlated with the number of posts 24 hours prior (and 48 hours prior, etc.).\n",
    "\n",
    "- Within-Day Correlation: The lags between the daily spikes (e.g., lags 1-23) also show a pattern. The correlation starts high and positive (lag 1) and then dips, indicating that posting activity in one hour is also related to the activity in the immediately preceding and following hours.\n",
    "\n",
    "In summary, the ACF plot confirms that the data has a strong, modelable 24-hour seasonal pattern, validating its suitability for time-series modeling."
   ],
   "id": "3da9b6cce99ad098"
  },
  {
   "metadata": {},
   "cell_type": "markdown",
   "source": [
    "**3. Transformation (Checking Variance)**\n",
    "**Why do this?** This is the final diagnostic step for Week 1, as mentioned in your proposal. Many time-series models (and statistical tests) perform best when the variance of the data (the \"spread\" or \"volatility\") is constant over time (a property called homoscedasticity).\n",
    "\n",
    "Our visual plot suggested that the variance might increase when the posting level increases (this is heteroscedasticity ). If this is the case, applying a mathematical transformation, such as a logarithm (log(y_t)), can help stabilize the variance, making the patterns cleaner and the model more reliable.\n",
    "\n",
    "\n",
    "\n",
    "**How does this affect the next step?** If we find the variance is unstable, we should apply a log transformation to our post_count data. All subsequent analysis (like Burst Detection in Week 2) would then be performed on this transformed data (log(post_count)) rather than the raw counts. If the variance looks stable, we can proceed with the raw post_count data."
   ],
   "id": "386c651f9f06a136"
  },
  {
   "metadata": {
    "ExecuteTime": {
     "end_time": "2025-10-29T17:48:00.813701Z",
     "start_time": "2025-10-29T17:48:00.750544Z"
    }
   },
   "cell_type": "code",
   "source": [
    "import numpy as np # Import numpy for log function\n",
    "\n",
    "try:\n",
    "    # --- Apply Log Transformation ---\n",
    "    # We use log1p, which calculates log(1 + x), to avoid errors if post_count is 0\n",
    "    posts_per_hour_transformed = posts_per_hour.with_columns(\n",
    "        pl.col('post_count').log1p().alias('log_post_count')\n",
    "    )\n",
    "\n",
    "    print(\"Aggregated data with log transformation (first 5 rows):\")\n",
    "    print(posts_per_hour_transformed.head())\n",
    "\n",
    "    # --- Create Comparison Plots ---\n",
    "\n",
    "    # Plot 1: Original Data\n",
    "    fig_original = px.line(posts_per_hour.to_pandas(),\n",
    "                           x='post_timestamp',\n",
    "                           y='post_count',\n",
    "                           title='Original Posts Per Hour (Raw Count)')\n",
    "\n",
    "    # Plot 2: Log-Transformed Data\n",
    "    fig_log = px.line(posts_per_hour_transformed.to_pandas(),\n",
    "                      x='post_timestamp',\n",
    "                      y='log_post_count',\n",
    "                      title='Log-Transformed Posts Per Hour (log(1 + Count))')\n",
    "\n",
    "    print(\"Displaying plots for variance comparison...\")\n",
    "    fig_original.show()\n",
    "    fig_log.show()\n",
    "    print(\"Plots displayed.\")\n",
    "\n",
    "except Exception as e:\n",
    "    print(f\"An error occurred during transformation or plotting: {e}\")"
   ],
   "id": "5f9a57c1856725d9",
   "outputs": [
    {
     "name": "stdout",
     "output_type": "stream",
     "text": [
      "Aggregated data with log transformation (first 5 rows):\n",
      "shape: (5, 3)\n",
      "┌─────────────────────────┬────────────┬────────────────┐\n",
      "│ post_timestamp          ┆ post_count ┆ log_post_count │\n",
      "│ ---                     ┆ ---        ┆ ---            │\n",
      "│ datetime[μs, UTC]       ┆ u32        ┆ f64            │\n",
      "╞═════════════════════════╪════════════╪════════════════╡\n",
      "│ 2025-01-27 05:00:00 UTC ┆ 64         ┆ 4.174387       │\n",
      "│ 2025-01-27 06:00:00 UTC ┆ 35         ┆ 3.583519       │\n",
      "│ 2025-01-27 07:00:00 UTC ┆ 13         ┆ 2.639057       │\n",
      "│ 2025-01-27 08:00:00 UTC ┆ 20         ┆ 3.044522       │\n",
      "│ 2025-01-27 09:00:00 UTC ┆ 29         ┆ 3.401197       │\n",
      "└─────────────────────────┴────────────┴────────────────┘\n",
      "Displaying plots for variance comparison...\n"
     ]
    },
    {
     "data": {
      "application/vnd.plotly.v1+json": {
       "data": [
        {
         "hovertemplate": "post_timestamp=%{x}<br>post_count=%{y}<extra></extra>",
         "legendgroup": "",
         "line": {
          "color": "#636efa",
          "dash": "solid"
         },
         "marker": {
          "symbol": "circle"
         },
         "mode": "lines",
         "name": "",
         "orientation": "v",
         "showlegend": false,
         "x": [
          "2025-01-27T05:00:00.000000",
          "2025-01-27T06:00:00.000000",
          "2025-01-27T07:00:00.000000",
          "2025-01-27T08:00:00.000000",
          "2025-01-27T09:00:00.000000",
          "2025-01-27T10:00:00.000000",
          "2025-01-27T11:00:00.000000",
          "2025-01-27T12:00:00.000000",
          "2025-01-27T13:00:00.000000",
          "2025-01-27T14:00:00.000000",
          "2025-01-27T15:00:00.000000",
          "2025-01-27T16:00:00.000000",
          "2025-01-27T17:00:00.000000",
          "2025-01-27T18:00:00.000000",
          "2025-01-27T19:00:00.000000",
          "2025-01-27T20:00:00.000000",
          "2025-01-27T21:00:00.000000",
          "2025-01-27T22:00:00.000000",
          "2025-01-27T23:00:00.000000",
          "2025-01-28T00:00:00.000000",
          "2025-01-28T01:00:00.000000",
          "2025-01-28T02:00:00.000000",
          "2025-01-28T03:00:00.000000",
          "2025-01-28T04:00:00.000000",
          "2025-01-28T05:00:00.000000",
          "2025-01-28T06:00:00.000000",
          "2025-01-28T07:00:00.000000",
          "2025-01-28T08:00:00.000000",
          "2025-01-28T09:00:00.000000",
          "2025-01-28T10:00:00.000000",
          "2025-01-28T11:00:00.000000",
          "2025-01-28T12:00:00.000000",
          "2025-01-28T13:00:00.000000",
          "2025-01-28T14:00:00.000000",
          "2025-01-28T15:00:00.000000",
          "2025-01-28T16:00:00.000000",
          "2025-01-28T17:00:00.000000",
          "2025-01-28T18:00:00.000000",
          "2025-01-28T19:00:00.000000",
          "2025-01-28T20:00:00.000000",
          "2025-01-28T21:00:00.000000",
          "2025-01-28T22:00:00.000000",
          "2025-01-28T23:00:00.000000",
          "2025-01-29T00:00:00.000000",
          "2025-01-29T01:00:00.000000",
          "2025-01-29T02:00:00.000000",
          "2025-01-29T03:00:00.000000",
          "2025-01-29T04:00:00.000000",
          "2025-01-29T05:00:00.000000",
          "2025-01-29T06:00:00.000000",
          "2025-01-29T07:00:00.000000",
          "2025-01-29T08:00:00.000000",
          "2025-01-29T09:00:00.000000",
          "2025-01-29T10:00:00.000000",
          "2025-01-29T11:00:00.000000",
          "2025-01-29T12:00:00.000000",
          "2025-01-29T13:00:00.000000",
          "2025-01-29T14:00:00.000000",
          "2025-01-29T15:00:00.000000",
          "2025-01-29T16:00:00.000000",
          "2025-01-29T17:00:00.000000",
          "2025-01-29T18:00:00.000000",
          "2025-01-29T19:00:00.000000",
          "2025-01-29T20:00:00.000000",
          "2025-01-29T21:00:00.000000",
          "2025-01-29T22:00:00.000000",
          "2025-01-29T23:00:00.000000",
          "2025-01-30T00:00:00.000000",
          "2025-01-30T01:00:00.000000",
          "2025-01-30T02:00:00.000000",
          "2025-01-30T03:00:00.000000",
          "2025-01-30T04:00:00.000000",
          "2025-01-30T05:00:00.000000",
          "2025-01-30T06:00:00.000000",
          "2025-01-30T07:00:00.000000",
          "2025-01-30T08:00:00.000000",
          "2025-01-30T09:00:00.000000",
          "2025-01-30T10:00:00.000000",
          "2025-01-30T11:00:00.000000",
          "2025-01-30T12:00:00.000000",
          "2025-01-30T13:00:00.000000",
          "2025-01-30T14:00:00.000000",
          "2025-01-30T15:00:00.000000",
          "2025-01-30T16:00:00.000000",
          "2025-01-30T17:00:00.000000",
          "2025-01-30T18:00:00.000000",
          "2025-01-30T19:00:00.000000",
          "2025-01-30T20:00:00.000000",
          "2025-01-30T21:00:00.000000",
          "2025-01-30T22:00:00.000000",
          "2025-01-30T23:00:00.000000",
          "2025-01-31T00:00:00.000000",
          "2025-01-31T01:00:00.000000",
          "2025-01-31T02:00:00.000000",
          "2025-01-31T03:00:00.000000",
          "2025-01-31T04:00:00.000000",
          "2025-01-31T05:00:00.000000",
          "2025-01-31T06:00:00.000000",
          "2025-01-31T07:00:00.000000",
          "2025-01-31T08:00:00.000000",
          "2025-01-31T09:00:00.000000",
          "2025-01-31T10:00:00.000000",
          "2025-01-31T11:00:00.000000",
          "2025-01-31T12:00:00.000000",
          "2025-01-31T13:00:00.000000",
          "2025-01-31T14:00:00.000000",
          "2025-01-31T15:00:00.000000",
          "2025-01-31T16:00:00.000000",
          "2025-01-31T17:00:00.000000",
          "2025-01-31T18:00:00.000000",
          "2025-01-31T19:00:00.000000",
          "2025-01-31T20:00:00.000000",
          "2025-01-31T21:00:00.000000",
          "2025-01-31T22:00:00.000000",
          "2025-01-31T23:00:00.000000",
          "2025-02-01T00:00:00.000000",
          "2025-02-01T01:00:00.000000",
          "2025-02-01T02:00:00.000000",
          "2025-02-01T03:00:00.000000",
          "2025-02-01T04:00:00.000000",
          "2025-02-01T05:00:00.000000",
          "2025-02-01T06:00:00.000000",
          "2025-02-01T07:00:00.000000",
          "2025-02-01T08:00:00.000000",
          "2025-02-01T09:00:00.000000",
          "2025-02-01T10:00:00.000000",
          "2025-02-01T11:00:00.000000",
          "2025-02-01T12:00:00.000000",
          "2025-02-01T13:00:00.000000",
          "2025-02-01T14:00:00.000000",
          "2025-02-01T15:00:00.000000",
          "2025-02-01T16:00:00.000000",
          "2025-02-01T17:00:00.000000",
          "2025-02-01T18:00:00.000000",
          "2025-02-01T19:00:00.000000",
          "2025-02-01T20:00:00.000000",
          "2025-02-01T21:00:00.000000",
          "2025-02-01T22:00:00.000000",
          "2025-02-01T23:00:00.000000",
          "2025-02-02T00:00:00.000000",
          "2025-02-02T01:00:00.000000",
          "2025-02-02T02:00:00.000000",
          "2025-02-02T03:00:00.000000",
          "2025-02-02T04:00:00.000000",
          "2025-02-02T05:00:00.000000",
          "2025-02-02T06:00:00.000000",
          "2025-02-02T07:00:00.000000",
          "2025-02-02T08:00:00.000000",
          "2025-02-02T09:00:00.000000",
          "2025-02-02T10:00:00.000000",
          "2025-02-02T11:00:00.000000",
          "2025-02-02T12:00:00.000000",
          "2025-02-02T13:00:00.000000",
          "2025-02-02T14:00:00.000000",
          "2025-02-02T15:00:00.000000",
          "2025-02-02T16:00:00.000000",
          "2025-02-02T17:00:00.000000",
          "2025-02-02T18:00:00.000000",
          "2025-02-02T19:00:00.000000",
          "2025-02-02T20:00:00.000000",
          "2025-02-02T21:00:00.000000",
          "2025-02-02T22:00:00.000000",
          "2025-02-02T23:00:00.000000",
          "2025-02-03T00:00:00.000000",
          "2025-02-03T01:00:00.000000",
          "2025-02-03T02:00:00.000000",
          "2025-02-03T03:00:00.000000",
          "2025-02-03T04:00:00.000000",
          "2025-02-03T05:00:00.000000",
          "2025-02-03T06:00:00.000000",
          "2025-02-03T07:00:00.000000",
          "2025-02-03T08:00:00.000000",
          "2025-02-03T09:00:00.000000",
          "2025-02-03T10:00:00.000000",
          "2025-02-03T11:00:00.000000",
          "2025-02-03T12:00:00.000000",
          "2025-02-03T13:00:00.000000",
          "2025-02-03T14:00:00.000000",
          "2025-02-03T15:00:00.000000",
          "2025-02-03T16:00:00.000000",
          "2025-02-03T17:00:00.000000",
          "2025-02-03T18:00:00.000000",
          "2025-02-03T19:00:00.000000",
          "2025-02-03T20:00:00.000000",
          "2025-02-03T21:00:00.000000",
          "2025-02-03T22:00:00.000000",
          "2025-02-03T23:00:00.000000",
          "2025-02-04T00:00:00.000000",
          "2025-02-04T01:00:00.000000",
          "2025-02-04T02:00:00.000000",
          "2025-02-04T03:00:00.000000",
          "2025-02-04T04:00:00.000000",
          "2025-02-04T05:00:00.000000",
          "2025-02-04T06:00:00.000000",
          "2025-02-04T07:00:00.000000",
          "2025-02-04T08:00:00.000000",
          "2025-02-04T09:00:00.000000",
          "2025-02-04T10:00:00.000000",
          "2025-02-04T11:00:00.000000",
          "2025-02-04T12:00:00.000000",
          "2025-02-04T13:00:00.000000",
          "2025-02-04T14:00:00.000000",
          "2025-02-04T15:00:00.000000",
          "2025-02-04T16:00:00.000000",
          "2025-02-04T17:00:00.000000",
          "2025-02-04T18:00:00.000000",
          "2025-02-04T19:00:00.000000",
          "2025-02-04T20:00:00.000000",
          "2025-02-04T21:00:00.000000",
          "2025-02-04T22:00:00.000000",
          "2025-02-04T23:00:00.000000",
          "2025-02-05T00:00:00.000000",
          "2025-02-05T01:00:00.000000",
          "2025-02-05T02:00:00.000000",
          "2025-02-05T03:00:00.000000",
          "2025-02-05T04:00:00.000000",
          "2025-02-05T05:00:00.000000",
          "2025-02-05T06:00:00.000000",
          "2025-02-05T07:00:00.000000",
          "2025-02-05T08:00:00.000000",
          "2025-02-05T09:00:00.000000",
          "2025-02-05T10:00:00.000000",
          "2025-02-05T11:00:00.000000",
          "2025-02-05T12:00:00.000000",
          "2025-02-05T13:00:00.000000",
          "2025-02-05T14:00:00.000000",
          "2025-02-05T15:00:00.000000",
          "2025-02-05T16:00:00.000000",
          "2025-02-05T17:00:00.000000",
          "2025-02-05T18:00:00.000000",
          "2025-02-05T19:00:00.000000",
          "2025-02-05T20:00:00.000000",
          "2025-02-05T21:00:00.000000",
          "2025-02-05T22:00:00.000000",
          "2025-02-05T23:00:00.000000",
          "2025-02-06T00:00:00.000000",
          "2025-02-06T01:00:00.000000",
          "2025-02-06T02:00:00.000000",
          "2025-02-06T03:00:00.000000",
          "2025-02-06T04:00:00.000000",
          "2025-02-06T05:00:00.000000",
          "2025-02-06T06:00:00.000000",
          "2025-02-06T07:00:00.000000",
          "2025-02-06T08:00:00.000000",
          "2025-02-06T09:00:00.000000",
          "2025-02-06T10:00:00.000000",
          "2025-02-06T11:00:00.000000",
          "2025-02-06T12:00:00.000000",
          "2025-02-06T13:00:00.000000",
          "2025-02-06T14:00:00.000000",
          "2025-02-06T15:00:00.000000",
          "2025-02-06T16:00:00.000000",
          "2025-02-06T17:00:00.000000",
          "2025-02-06T18:00:00.000000",
          "2025-02-06T19:00:00.000000",
          "2025-02-06T20:00:00.000000",
          "2025-02-06T21:00:00.000000",
          "2025-02-06T22:00:00.000000",
          "2025-02-06T23:00:00.000000",
          "2025-02-07T00:00:00.000000",
          "2025-02-07T01:00:00.000000",
          "2025-02-07T02:00:00.000000",
          "2025-02-07T03:00:00.000000",
          "2025-02-07T04:00:00.000000",
          "2025-02-07T05:00:00.000000",
          "2025-02-07T06:00:00.000000",
          "2025-02-07T07:00:00.000000",
          "2025-02-07T08:00:00.000000",
          "2025-02-07T09:00:00.000000",
          "2025-02-07T10:00:00.000000",
          "2025-02-07T11:00:00.000000",
          "2025-02-07T12:00:00.000000",
          "2025-02-07T13:00:00.000000",
          "2025-02-07T14:00:00.000000",
          "2025-02-07T15:00:00.000000",
          "2025-02-07T16:00:00.000000",
          "2025-02-07T17:00:00.000000",
          "2025-02-07T18:00:00.000000",
          "2025-02-07T19:00:00.000000",
          "2025-02-07T20:00:00.000000",
          "2025-02-07T21:00:00.000000",
          "2025-02-07T22:00:00.000000",
          "2025-02-07T23:00:00.000000",
          "2025-02-08T00:00:00.000000",
          "2025-02-08T01:00:00.000000",
          "2025-02-08T02:00:00.000000",
          "2025-02-08T03:00:00.000000",
          "2025-02-08T04:00:00.000000",
          "2025-02-08T05:00:00.000000",
          "2025-02-08T06:00:00.000000",
          "2025-02-08T07:00:00.000000",
          "2025-02-08T08:00:00.000000",
          "2025-02-08T09:00:00.000000",
          "2025-02-08T10:00:00.000000",
          "2025-02-08T11:00:00.000000",
          "2025-02-08T12:00:00.000000",
          "2025-02-08T13:00:00.000000",
          "2025-02-08T14:00:00.000000",
          "2025-02-08T15:00:00.000000",
          "2025-02-08T16:00:00.000000",
          "2025-02-08T17:00:00.000000",
          "2025-02-08T18:00:00.000000",
          "2025-02-08T19:00:00.000000",
          "2025-02-08T20:00:00.000000",
          "2025-02-08T21:00:00.000000",
          "2025-02-08T22:00:00.000000",
          "2025-02-08T23:00:00.000000",
          "2025-02-09T00:00:00.000000",
          "2025-02-09T01:00:00.000000",
          "2025-02-09T02:00:00.000000",
          "2025-02-09T03:00:00.000000",
          "2025-02-09T04:00:00.000000",
          "2025-02-09T05:00:00.000000",
          "2025-02-09T06:00:00.000000",
          "2025-02-09T07:00:00.000000",
          "2025-02-09T08:00:00.000000",
          "2025-02-09T09:00:00.000000",
          "2025-02-09T10:00:00.000000",
          "2025-02-09T11:00:00.000000",
          "2025-02-09T12:00:00.000000",
          "2025-02-09T13:00:00.000000",
          "2025-02-09T14:00:00.000000",
          "2025-02-09T15:00:00.000000",
          "2025-02-09T16:00:00.000000",
          "2025-02-09T17:00:00.000000",
          "2025-02-09T18:00:00.000000",
          "2025-02-09T19:00:00.000000",
          "2025-02-09T20:00:00.000000",
          "2025-02-09T21:00:00.000000",
          "2025-02-09T22:00:00.000000",
          "2025-02-09T23:00:00.000000",
          "2025-02-10T00:00:00.000000",
          "2025-02-10T01:00:00.000000",
          "2025-02-10T02:00:00.000000",
          "2025-02-10T03:00:00.000000",
          "2025-02-10T04:00:00.000000",
          "2025-02-10T05:00:00.000000",
          "2025-02-10T06:00:00.000000",
          "2025-02-10T07:00:00.000000",
          "2025-02-10T08:00:00.000000",
          "2025-02-10T09:00:00.000000",
          "2025-02-10T10:00:00.000000",
          "2025-02-10T11:00:00.000000",
          "2025-02-10T12:00:00.000000",
          "2025-02-10T13:00:00.000000",
          "2025-02-10T14:00:00.000000",
          "2025-02-10T15:00:00.000000",
          "2025-02-10T16:00:00.000000",
          "2025-02-10T17:00:00.000000",
          "2025-02-10T18:00:00.000000",
          "2025-02-10T19:00:00.000000",
          "2025-02-10T20:00:00.000000",
          "2025-02-10T21:00:00.000000",
          "2025-02-10T22:00:00.000000",
          "2025-02-10T23:00:00.000000",
          "2025-02-11T00:00:00.000000",
          "2025-02-11T01:00:00.000000",
          "2025-02-11T02:00:00.000000",
          "2025-02-11T03:00:00.000000",
          "2025-02-11T04:00:00.000000",
          "2025-02-11T05:00:00.000000",
          "2025-02-11T06:00:00.000000",
          "2025-02-11T07:00:00.000000",
          "2025-02-11T08:00:00.000000",
          "2025-02-11T09:00:00.000000",
          "2025-02-11T10:00:00.000000",
          "2025-02-11T11:00:00.000000",
          "2025-02-11T12:00:00.000000",
          "2025-02-11T13:00:00.000000",
          "2025-02-11T14:00:00.000000",
          "2025-02-11T15:00:00.000000",
          "2025-02-11T16:00:00.000000",
          "2025-02-11T17:00:00.000000",
          "2025-02-11T18:00:00.000000",
          "2025-02-11T19:00:00.000000",
          "2025-02-11T20:00:00.000000",
          "2025-02-11T21:00:00.000000",
          "2025-02-11T22:00:00.000000",
          "2025-02-11T23:00:00.000000",
          "2025-02-12T00:00:00.000000",
          "2025-02-12T01:00:00.000000",
          "2025-02-12T02:00:00.000000",
          "2025-02-12T03:00:00.000000",
          "2025-02-12T04:00:00.000000",
          "2025-02-12T05:00:00.000000",
          "2025-02-12T06:00:00.000000",
          "2025-02-12T07:00:00.000000",
          "2025-02-12T08:00:00.000000",
          "2025-02-12T09:00:00.000000",
          "2025-02-12T10:00:00.000000",
          "2025-02-12T11:00:00.000000",
          "2025-02-12T12:00:00.000000",
          "2025-02-12T13:00:00.000000",
          "2025-02-12T14:00:00.000000",
          "2025-02-12T15:00:00.000000",
          "2025-02-12T16:00:00.000000",
          "2025-02-12T17:00:00.000000",
          "2025-02-12T18:00:00.000000",
          "2025-02-12T19:00:00.000000",
          "2025-02-12T20:00:00.000000",
          "2025-02-12T21:00:00.000000",
          "2025-02-12T22:00:00.000000",
          "2025-02-12T23:00:00.000000",
          "2025-02-13T00:00:00.000000",
          "2025-02-13T01:00:00.000000",
          "2025-02-13T02:00:00.000000",
          "2025-02-13T03:00:00.000000",
          "2025-02-13T04:00:00.000000",
          "2025-02-13T05:00:00.000000",
          "2025-02-13T06:00:00.000000",
          "2025-02-13T07:00:00.000000",
          "2025-02-13T08:00:00.000000",
          "2025-02-13T09:00:00.000000",
          "2025-02-13T10:00:00.000000",
          "2025-02-13T11:00:00.000000",
          "2025-02-13T12:00:00.000000",
          "2025-02-13T13:00:00.000000",
          "2025-02-13T14:00:00.000000",
          "2025-02-13T15:00:00.000000",
          "2025-02-13T16:00:00.000000",
          "2025-02-13T17:00:00.000000",
          "2025-02-13T18:00:00.000000",
          "2025-02-13T19:00:00.000000",
          "2025-02-13T20:00:00.000000",
          "2025-02-13T21:00:00.000000",
          "2025-02-13T22:00:00.000000",
          "2025-02-13T23:00:00.000000",
          "2025-02-14T00:00:00.000000",
          "2025-02-14T01:00:00.000000",
          "2025-02-14T02:00:00.000000",
          "2025-02-14T03:00:00.000000",
          "2025-02-14T04:00:00.000000",
          "2025-02-14T05:00:00.000000",
          "2025-02-14T06:00:00.000000",
          "2025-02-14T07:00:00.000000",
          "2025-02-14T08:00:00.000000",
          "2025-02-14T09:00:00.000000",
          "2025-02-14T10:00:00.000000",
          "2025-02-14T11:00:00.000000",
          "2025-02-14T12:00:00.000000",
          "2025-02-14T13:00:00.000000",
          "2025-02-14T14:00:00.000000",
          "2025-02-14T15:00:00.000000",
          "2025-02-14T16:00:00.000000",
          "2025-02-14T17:00:00.000000",
          "2025-02-14T18:00:00.000000",
          "2025-02-14T19:00:00.000000",
          "2025-02-14T20:00:00.000000",
          "2025-02-14T21:00:00.000000",
          "2025-02-14T22:00:00.000000",
          "2025-02-14T23:00:00.000000",
          "2025-02-15T00:00:00.000000",
          "2025-02-15T01:00:00.000000",
          "2025-02-15T02:00:00.000000",
          "2025-02-15T03:00:00.000000",
          "2025-02-15T04:00:00.000000",
          "2025-02-15T05:00:00.000000",
          "2025-02-15T06:00:00.000000",
          "2025-02-15T07:00:00.000000",
          "2025-02-15T08:00:00.000000",
          "2025-02-15T09:00:00.000000",
          "2025-02-15T10:00:00.000000",
          "2025-02-15T11:00:00.000000",
          "2025-02-15T12:00:00.000000",
          "2025-02-15T13:00:00.000000",
          "2025-02-15T14:00:00.000000",
          "2025-02-15T15:00:00.000000",
          "2025-02-15T16:00:00.000000",
          "2025-02-15T17:00:00.000000",
          "2025-02-15T18:00:00.000000",
          "2025-02-15T19:00:00.000000",
          "2025-02-15T20:00:00.000000",
          "2025-02-15T21:00:00.000000",
          "2025-02-15T22:00:00.000000",
          "2025-02-15T23:00:00.000000",
          "2025-02-16T00:00:00.000000",
          "2025-02-16T01:00:00.000000",
          "2025-02-16T02:00:00.000000",
          "2025-02-16T03:00:00.000000",
          "2025-02-16T04:00:00.000000"
         ],
         "xaxis": "x",
         "y": {
          "dtype": "u4",
          "bdata": "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"
         },
         "yaxis": "y",
         "type": "scatter"
        }
       ],
       "layout": {
        "template": {
         "data": {
          "histogram2dcontour": [
           {
            "type": "histogram2dcontour",
            "colorbar": {
             "outlinewidth": 0,
             "ticks": ""
            },
            "colorscale": [
             [
              0.0,
              "#0d0887"
             ],
             [
              0.1111111111111111,
              "#46039f"
             ],
             [
              0.2222222222222222,
              "#7201a8"
             ],
             [
              0.3333333333333333,
              "#9c179e"
             ],
             [
              0.4444444444444444,
              "#bd3786"
             ],
             [
              0.5555555555555556,
              "#d8576b"
             ],
             [
              0.6666666666666666,
              "#ed7953"
             ],
             [
              0.7777777777777778,
              "#fb9f3a"
             ],
             [
              0.8888888888888888,
              "#fdca26"
             ],
             [
              1.0,
              "#f0f921"
             ]
            ]
           }
          ],
          "choropleth": [
           {
            "type": "choropleth",
            "colorbar": {
             "outlinewidth": 0,
             "ticks": ""
            }
           }
          ],
          "histogram2d": [
           {
            "type": "histogram2d",
            "colorbar": {
             "outlinewidth": 0,
             "ticks": ""
            },
            "colorscale": [
             [
              0.0,
              "#0d0887"
             ],
             [
              0.1111111111111111,
              "#46039f"
             ],
             [
              0.2222222222222222,
              "#7201a8"
             ],
             [
              0.3333333333333333,
              "#9c179e"
             ],
             [
              0.4444444444444444,
              "#bd3786"
             ],
             [
              0.5555555555555556,
              "#d8576b"
             ],
             [
              0.6666666666666666,
              "#ed7953"
             ],
             [
              0.7777777777777778,
              "#fb9f3a"
             ],
             [
              0.8888888888888888,
              "#fdca26"
             ],
             [
              1.0,
              "#f0f921"
             ]
            ]
           }
          ],
          "heatmap": [
           {
            "type": "heatmap",
            "colorbar": {
             "outlinewidth": 0,
             "ticks": ""
            },
            "colorscale": [
             [
              0.0,
              "#0d0887"
             ],
             [
              0.1111111111111111,
              "#46039f"
             ],
             [
              0.2222222222222222,
              "#7201a8"
             ],
             [
              0.3333333333333333,
              "#9c179e"
             ],
             [
              0.4444444444444444,
              "#bd3786"
             ],
             [
              0.5555555555555556,
              "#d8576b"
             ],
             [
              0.6666666666666666,
              "#ed7953"
             ],
             [
              0.7777777777777778,
              "#fb9f3a"
             ],
             [
              0.8888888888888888,
              "#fdca26"
             ],
             [
              1.0,
              "#f0f921"
             ]
            ]
           }
          ],
          "contourcarpet": [
           {
            "type": "contourcarpet",
            "colorbar": {
             "outlinewidth": 0,
             "ticks": ""
            }
           }
          ],
          "contour": [
           {
            "type": "contour",
            "colorbar": {
             "outlinewidth": 0,
             "ticks": ""
            },
            "colorscale": [
             [
              0.0,
              "#0d0887"
             ],
             [
              0.1111111111111111,
              "#46039f"
             ],
             [
              0.2222222222222222,
              "#7201a8"
             ],
             [
              0.3333333333333333,
              "#9c179e"
             ],
             [
              0.4444444444444444,
              "#bd3786"
             ],
             [
              0.5555555555555556,
              "#d8576b"
             ],
             [
              0.6666666666666666,
              "#ed7953"
             ],
             [
              0.7777777777777778,
              "#fb9f3a"
             ],
             [
              0.8888888888888888,
              "#fdca26"
             ],
             [
              1.0,
              "#f0f921"
             ]
            ]
           }
          ],
          "surface": [
           {
            "type": "surface",
            "colorbar": {
             "outlinewidth": 0,
             "ticks": ""
            },
            "colorscale": [
             [
              0.0,
              "#0d0887"
             ],
             [
              0.1111111111111111,
              "#46039f"
             ],
             [
              0.2222222222222222,
              "#7201a8"
             ],
             [
              0.3333333333333333,
              "#9c179e"
             ],
             [
              0.4444444444444444,
              "#bd3786"
             ],
             [
              0.5555555555555556,
              "#d8576b"
             ],
             [
              0.6666666666666666,
              "#ed7953"
             ],
             [
              0.7777777777777778,
              "#fb9f3a"
             ],
             [
              0.8888888888888888,
              "#fdca26"
             ],
             [
              1.0,
              "#f0f921"
             ]
            ]
           }
          ],
          "mesh3d": [
           {
            "type": "mesh3d",
            "colorbar": {
             "outlinewidth": 0,
             "ticks": ""
            }
           }
          ],
          "scatter": [
           {
            "marker": {
             "line": {
              "color": "#283442"
             }
            },
            "type": "scatter"
           }
          ],
          "parcoords": [
           {
            "type": "parcoords",
            "line": {
             "colorbar": {
              "outlinewidth": 0,
              "ticks": ""
             }
            }
           }
          ],
          "scatterpolargl": [
           {
            "type": "scatterpolargl",
            "marker": {
             "colorbar": {
              "outlinewidth": 0,
              "ticks": ""
             }
            }
           }
          ],
          "bar": [
           {
            "error_x": {
             "color": "#f2f5fa"
            },
            "error_y": {
             "color": "#f2f5fa"
            },
            "marker": {
             "line": {
              "color": "rgb(17,17,17)",
              "width": 0.5
             },
             "pattern": {
              "fillmode": "overlay",
              "size": 10,
              "solidity": 0.2
             }
            },
            "type": "bar"
           }
          ],
          "scattergeo": [
           {
            "type": "scattergeo",
            "marker": {
             "colorbar": {
              "outlinewidth": 0,
              "ticks": ""
             }
            }
           }
          ],
          "scatterpolar": [
           {
            "type": "scatterpolar",
            "marker": {
             "colorbar": {
              "outlinewidth": 0,
              "ticks": ""
             }
            }
           }
          ],
          "histogram": [
           {
            "marker": {
             "pattern": {
              "fillmode": "overlay",
              "size": 10,
              "solidity": 0.2
             }
            },
            "type": "histogram"
           }
          ],
          "scattergl": [
           {
            "marker": {
             "line": {
              "color": "#283442"
             }
            },
            "type": "scattergl"
           }
          ],
          "scatter3d": [
           {
            "type": "scatter3d",
            "line": {
             "colorbar": {
              "outlinewidth": 0,
              "ticks": ""
             }
            },
            "marker": {
             "colorbar": {
              "outlinewidth": 0,
              "ticks": ""
             }
            }
           }
          ],
          "scattermap": [
           {
            "type": "scattermap",
            "marker": {
             "colorbar": {
              "outlinewidth": 0,
              "ticks": ""
             }
            }
           }
          ],
          "scattermapbox": [
           {
            "type": "scattermapbox",
            "marker": {
             "colorbar": {
              "outlinewidth": 0,
              "ticks": ""
             }
            }
           }
          ],
          "scatterternary": [
           {
            "type": "scatterternary",
            "marker": {
             "colorbar": {
              "outlinewidth": 0,
              "ticks": ""
             }
            }
           }
          ],
          "scattercarpet": [
           {
            "type": "scattercarpet",
            "marker": {
             "colorbar": {
              "outlinewidth": 0,
              "ticks": ""
             }
            }
           }
          ],
          "carpet": [
           {
            "aaxis": {
             "endlinecolor": "#A2B1C6",
             "gridcolor": "#506784",
             "linecolor": "#506784",
             "minorgridcolor": "#506784",
             "startlinecolor": "#A2B1C6"
            },
            "baxis": {
             "endlinecolor": "#A2B1C6",
             "gridcolor": "#506784",
             "linecolor": "#506784",
             "minorgridcolor": "#506784",
             "startlinecolor": "#A2B1C6"
            },
            "type": "carpet"
           }
          ],
          "table": [
           {
            "cells": {
             "fill": {
              "color": "#506784"
             },
             "line": {
              "color": "rgb(17,17,17)"
             }
            },
            "header": {
             "fill": {
              "color": "#2a3f5f"
             },
             "line": {
              "color": "rgb(17,17,17)"
             }
            },
            "type": "table"
           }
          ],
          "barpolar": [
           {
            "marker": {
             "line": {
              "color": "rgb(17,17,17)",
              "width": 0.5
             },
             "pattern": {
              "fillmode": "overlay",
              "size": 10,
              "solidity": 0.2
             }
            },
            "type": "barpolar"
           }
          ],
          "pie": [
           {
            "automargin": true,
            "type": "pie"
           }
          ]
         },
         "layout": {
          "autotypenumbers": "strict",
          "colorway": [
           "#636efa",
           "#EF553B",
           "#00cc96",
           "#ab63fa",
           "#FFA15A",
           "#19d3f3",
           "#FF6692",
           "#B6E880",
           "#FF97FF",
           "#FECB52"
          ],
          "font": {
           "color": "#f2f5fa"
          },
          "hovermode": "closest",
          "hoverlabel": {
           "align": "left"
          },
          "paper_bgcolor": "rgb(17,17,17)",
          "plot_bgcolor": "rgb(17,17,17)",
          "polar": {
           "bgcolor": "rgb(17,17,17)",
           "angularaxis": {
            "gridcolor": "#506784",
            "linecolor": "#506784",
            "ticks": ""
           },
           "radialaxis": {
            "gridcolor": "#506784",
            "linecolor": "#506784",
            "ticks": ""
           }
          },
          "ternary": {
           "bgcolor": "rgb(17,17,17)",
           "aaxis": {
            "gridcolor": "#506784",
            "linecolor": "#506784",
            "ticks": ""
           },
           "baxis": {
            "gridcolor": "#506784",
            "linecolor": "#506784",
            "ticks": ""
           },
           "caxis": {
            "gridcolor": "#506784",
            "linecolor": "#506784",
            "ticks": ""
           }
          },
          "coloraxis": {
           "colorbar": {
            "outlinewidth": 0,
            "ticks": ""
           }
          },
          "colorscale": {
           "sequential": [
            [
             0.0,
             "#0d0887"
            ],
            [
             0.1111111111111111,
             "#46039f"
            ],
            [
             0.2222222222222222,
             "#7201a8"
            ],
            [
             0.3333333333333333,
             "#9c179e"
            ],
            [
             0.4444444444444444,
             "#bd3786"
            ],
            [
             0.5555555555555556,
             "#d8576b"
            ],
            [
             0.6666666666666666,
             "#ed7953"
            ],
            [
             0.7777777777777778,
             "#fb9f3a"
            ],
            [
             0.8888888888888888,
             "#fdca26"
            ],
            [
             1.0,
             "#f0f921"
            ]
           ],
           "sequentialminus": [
            [
             0.0,
             "#0d0887"
            ],
            [
             0.1111111111111111,
             "#46039f"
            ],
            [
             0.2222222222222222,
             "#7201a8"
            ],
            [
             0.3333333333333333,
             "#9c179e"
            ],
            [
             0.4444444444444444,
             "#bd3786"
            ],
            [
             0.5555555555555556,
             "#d8576b"
            ],
            [
             0.6666666666666666,
             "#ed7953"
            ],
            [
             0.7777777777777778,
             "#fb9f3a"
            ],
            [
             0.8888888888888888,
             "#fdca26"
            ],
            [
             1.0,
             "#f0f921"
            ]
           ],
           "diverging": [
            [
             0,
             "#8e0152"
            ],
            [
             0.1,
             "#c51b7d"
            ],
            [
             0.2,
             "#de77ae"
            ],
            [
             0.3,
             "#f1b6da"
            ],
            [
             0.4,
             "#fde0ef"
            ],
            [
             0.5,
             "#f7f7f7"
            ],
            [
             0.6,
             "#e6f5d0"
            ],
            [
             0.7,
             "#b8e186"
            ],
            [
             0.8,
             "#7fbc41"
            ],
            [
             0.9,
             "#4d9221"
            ],
            [
             1,
             "#276419"
            ]
           ]
          },
          "xaxis": {
           "gridcolor": "#283442",
           "linecolor": "#506784",
           "ticks": "",
           "title": {
            "standoff": 15
           },
           "zerolinecolor": "#283442",
           "automargin": true,
           "zerolinewidth": 2
          },
          "yaxis": {
           "gridcolor": "#283442",
           "linecolor": "#506784",
           "ticks": "",
           "title": {
            "standoff": 15
           },
           "zerolinecolor": "#283442",
           "automargin": true,
           "zerolinewidth": 2
          },
          "scene": {
           "xaxis": {
            "backgroundcolor": "rgb(17,17,17)",
            "gridcolor": "#506784",
            "linecolor": "#506784",
            "showbackground": true,
            "ticks": "",
            "zerolinecolor": "#C8D4E3",
            "gridwidth": 2
           },
           "yaxis": {
            "backgroundcolor": "rgb(17,17,17)",
            "gridcolor": "#506784",
            "linecolor": "#506784",
            "showbackground": true,
            "ticks": "",
            "zerolinecolor": "#C8D4E3",
            "gridwidth": 2
           },
           "zaxis": {
            "backgroundcolor": "rgb(17,17,17)",
            "gridcolor": "#506784",
            "linecolor": "#506784",
            "showbackground": true,
            "ticks": "",
            "zerolinecolor": "#C8D4E3",
            "gridwidth": 2
           }
          },
          "shapedefaults": {
           "line": {
            "color": "#f2f5fa"
           }
          },
          "annotationdefaults": {
           "arrowcolor": "#f2f5fa",
           "arrowhead": 0,
           "arrowwidth": 1
          },
          "geo": {
           "bgcolor": "rgb(17,17,17)",
           "landcolor": "rgb(17,17,17)",
           "subunitcolor": "#506784",
           "showland": true,
           "showlakes": true,
           "lakecolor": "rgb(17,17,17)"
          },
          "title": {
           "x": 0.05
          },
          "updatemenudefaults": {
           "bgcolor": "#506784",
           "borderwidth": 0
          },
          "sliderdefaults": {
           "bgcolor": "#C8D4E3",
           "borderwidth": 1,
           "bordercolor": "rgb(17,17,17)",
           "tickwidth": 0
          },
          "mapbox": {
           "style": "dark"
          }
         }
        },
        "xaxis": {
         "anchor": "y",
         "domain": [
          0.0,
          1.0
         ],
         "title": {
          "text": "post_timestamp"
         }
        },
        "yaxis": {
         "anchor": "x",
         "domain": [
          0.0,
          1.0
         ],
         "title": {
          "text": "post_count"
         }
        },
        "legend": {
         "tracegroupgap": 0
        },
        "title": {
         "text": "Original Posts Per Hour (Raw Count)"
        }
       },
       "config": {
        "plotlyServerURL": "https://plot.ly"
       }
      }
     },
     "metadata": {},
     "output_type": "display_data",
     "jetTransient": {
      "display_id": null
     }
    },
    {
     "data": {
      "application/vnd.plotly.v1+json": {
       "data": [
        {
         "hovertemplate": "post_timestamp=%{x}<br>log_post_count=%{y}<extra></extra>",
         "legendgroup": "",
         "line": {
          "color": "#636efa",
          "dash": "solid"
         },
         "marker": {
          "symbol": "circle"
         },
         "mode": "lines",
         "name": "",
         "orientation": "v",
         "showlegend": false,
         "x": [
          "2025-01-27T05:00:00.000000",
          "2025-01-27T06:00:00.000000",
          "2025-01-27T07:00:00.000000",
          "2025-01-27T08:00:00.000000",
          "2025-01-27T09:00:00.000000",
          "2025-01-27T10:00:00.000000",
          "2025-01-27T11:00:00.000000",
          "2025-01-27T12:00:00.000000",
          "2025-01-27T13:00:00.000000",
          "2025-01-27T14:00:00.000000",
          "2025-01-27T15:00:00.000000",
          "2025-01-27T16:00:00.000000",
          "2025-01-27T17:00:00.000000",
          "2025-01-27T18:00:00.000000",
          "2025-01-27T19:00:00.000000",
          "2025-01-27T20:00:00.000000",
          "2025-01-27T21:00:00.000000",
          "2025-01-27T22:00:00.000000",
          "2025-01-27T23:00:00.000000",
          "2025-01-28T00:00:00.000000",
          "2025-01-28T01:00:00.000000",
          "2025-01-28T02:00:00.000000",
          "2025-01-28T03:00:00.000000",
          "2025-01-28T04:00:00.000000",
          "2025-01-28T05:00:00.000000",
          "2025-01-28T06:00:00.000000",
          "2025-01-28T07:00:00.000000",
          "2025-01-28T08:00:00.000000",
          "2025-01-28T09:00:00.000000",
          "2025-01-28T10:00:00.000000",
          "2025-01-28T11:00:00.000000",
          "2025-01-28T12:00:00.000000",
          "2025-01-28T13:00:00.000000",
          "2025-01-28T14:00:00.000000",
          "2025-01-28T15:00:00.000000",
          "2025-01-28T16:00:00.000000",
          "2025-01-28T17:00:00.000000",
          "2025-01-28T18:00:00.000000",
          "2025-01-28T19:00:00.000000",
          "2025-01-28T20:00:00.000000",
          "2025-01-28T21:00:00.000000",
          "2025-01-28T22:00:00.000000",
          "2025-01-28T23:00:00.000000",
          "2025-01-29T00:00:00.000000",
          "2025-01-29T01:00:00.000000",
          "2025-01-29T02:00:00.000000",
          "2025-01-29T03:00:00.000000",
          "2025-01-29T04:00:00.000000",
          "2025-01-29T05:00:00.000000",
          "2025-01-29T06:00:00.000000",
          "2025-01-29T07:00:00.000000",
          "2025-01-29T08:00:00.000000",
          "2025-01-29T09:00:00.000000",
          "2025-01-29T10:00:00.000000",
          "2025-01-29T11:00:00.000000",
          "2025-01-29T12:00:00.000000",
          "2025-01-29T13:00:00.000000",
          "2025-01-29T14:00:00.000000",
          "2025-01-29T15:00:00.000000",
          "2025-01-29T16:00:00.000000",
          "2025-01-29T17:00:00.000000",
          "2025-01-29T18:00:00.000000",
          "2025-01-29T19:00:00.000000",
          "2025-01-29T20:00:00.000000",
          "2025-01-29T21:00:00.000000",
          "2025-01-29T22:00:00.000000",
          "2025-01-29T23:00:00.000000",
          "2025-01-30T00:00:00.000000",
          "2025-01-30T01:00:00.000000",
          "2025-01-30T02:00:00.000000",
          "2025-01-30T03:00:00.000000",
          "2025-01-30T04:00:00.000000",
          "2025-01-30T05:00:00.000000",
          "2025-01-30T06:00:00.000000",
          "2025-01-30T07:00:00.000000",
          "2025-01-30T08:00:00.000000",
          "2025-01-30T09:00:00.000000",
          "2025-01-30T10:00:00.000000",
          "2025-01-30T11:00:00.000000",
          "2025-01-30T12:00:00.000000",
          "2025-01-30T13:00:00.000000",
          "2025-01-30T14:00:00.000000",
          "2025-01-30T15:00:00.000000",
          "2025-01-30T16:00:00.000000",
          "2025-01-30T17:00:00.000000",
          "2025-01-30T18:00:00.000000",
          "2025-01-30T19:00:00.000000",
          "2025-01-30T20:00:00.000000",
          "2025-01-30T21:00:00.000000",
          "2025-01-30T22:00:00.000000",
          "2025-01-30T23:00:00.000000",
          "2025-01-31T00:00:00.000000",
          "2025-01-31T01:00:00.000000",
          "2025-01-31T02:00:00.000000",
          "2025-01-31T03:00:00.000000",
          "2025-01-31T04:00:00.000000",
          "2025-01-31T05:00:00.000000",
          "2025-01-31T06:00:00.000000",
          "2025-01-31T07:00:00.000000",
          "2025-01-31T08:00:00.000000",
          "2025-01-31T09:00:00.000000",
          "2025-01-31T10:00:00.000000",
          "2025-01-31T11:00:00.000000",
          "2025-01-31T12:00:00.000000",
          "2025-01-31T13:00:00.000000",
          "2025-01-31T14:00:00.000000",
          "2025-01-31T15:00:00.000000",
          "2025-01-31T16:00:00.000000",
          "2025-01-31T17:00:00.000000",
          "2025-01-31T18:00:00.000000",
          "2025-01-31T19:00:00.000000",
          "2025-01-31T20:00:00.000000",
          "2025-01-31T21:00:00.000000",
          "2025-01-31T22:00:00.000000",
          "2025-01-31T23:00:00.000000",
          "2025-02-01T00:00:00.000000",
          "2025-02-01T01:00:00.000000",
          "2025-02-01T02:00:00.000000",
          "2025-02-01T03:00:00.000000",
          "2025-02-01T04:00:00.000000",
          "2025-02-01T05:00:00.000000",
          "2025-02-01T06:00:00.000000",
          "2025-02-01T07:00:00.000000",
          "2025-02-01T08:00:00.000000",
          "2025-02-01T09:00:00.000000",
          "2025-02-01T10:00:00.000000",
          "2025-02-01T11:00:00.000000",
          "2025-02-01T12:00:00.000000",
          "2025-02-01T13:00:00.000000",
          "2025-02-01T14:00:00.000000",
          "2025-02-01T15:00:00.000000",
          "2025-02-01T16:00:00.000000",
          "2025-02-01T17:00:00.000000",
          "2025-02-01T18:00:00.000000",
          "2025-02-01T19:00:00.000000",
          "2025-02-01T20:00:00.000000",
          "2025-02-01T21:00:00.000000",
          "2025-02-01T22:00:00.000000",
          "2025-02-01T23:00:00.000000",
          "2025-02-02T00:00:00.000000",
          "2025-02-02T01:00:00.000000",
          "2025-02-02T02:00:00.000000",
          "2025-02-02T03:00:00.000000",
          "2025-02-02T04:00:00.000000",
          "2025-02-02T05:00:00.000000",
          "2025-02-02T06:00:00.000000",
          "2025-02-02T07:00:00.000000",
          "2025-02-02T08:00:00.000000",
          "2025-02-02T09:00:00.000000",
          "2025-02-02T10:00:00.000000",
          "2025-02-02T11:00:00.000000",
          "2025-02-02T12:00:00.000000",
          "2025-02-02T13:00:00.000000",
          "2025-02-02T14:00:00.000000",
          "2025-02-02T15:00:00.000000",
          "2025-02-02T16:00:00.000000",
          "2025-02-02T17:00:00.000000",
          "2025-02-02T18:00:00.000000",
          "2025-02-02T19:00:00.000000",
          "2025-02-02T20:00:00.000000",
          "2025-02-02T21:00:00.000000",
          "2025-02-02T22:00:00.000000",
          "2025-02-02T23:00:00.000000",
          "2025-02-03T00:00:00.000000",
          "2025-02-03T01:00:00.000000",
          "2025-02-03T02:00:00.000000",
          "2025-02-03T03:00:00.000000",
          "2025-02-03T04:00:00.000000",
          "2025-02-03T05:00:00.000000",
          "2025-02-03T06:00:00.000000",
          "2025-02-03T07:00:00.000000",
          "2025-02-03T08:00:00.000000",
          "2025-02-03T09:00:00.000000",
          "2025-02-03T10:00:00.000000",
          "2025-02-03T11:00:00.000000",
          "2025-02-03T12:00:00.000000",
          "2025-02-03T13:00:00.000000",
          "2025-02-03T14:00:00.000000",
          "2025-02-03T15:00:00.000000",
          "2025-02-03T16:00:00.000000",
          "2025-02-03T17:00:00.000000",
          "2025-02-03T18:00:00.000000",
          "2025-02-03T19:00:00.000000",
          "2025-02-03T20:00:00.000000",
          "2025-02-03T21:00:00.000000",
          "2025-02-03T22:00:00.000000",
          "2025-02-03T23:00:00.000000",
          "2025-02-04T00:00:00.000000",
          "2025-02-04T01:00:00.000000",
          "2025-02-04T02:00:00.000000",
          "2025-02-04T03:00:00.000000",
          "2025-02-04T04:00:00.000000",
          "2025-02-04T05:00:00.000000",
          "2025-02-04T06:00:00.000000",
          "2025-02-04T07:00:00.000000",
          "2025-02-04T08:00:00.000000",
          "2025-02-04T09:00:00.000000",
          "2025-02-04T10:00:00.000000",
          "2025-02-04T11:00:00.000000",
          "2025-02-04T12:00:00.000000",
          "2025-02-04T13:00:00.000000",
          "2025-02-04T14:00:00.000000",
          "2025-02-04T15:00:00.000000",
          "2025-02-04T16:00:00.000000",
          "2025-02-04T17:00:00.000000",
          "2025-02-04T18:00:00.000000",
          "2025-02-04T19:00:00.000000",
          "2025-02-04T20:00:00.000000",
          "2025-02-04T21:00:00.000000",
          "2025-02-04T22:00:00.000000",
          "2025-02-04T23:00:00.000000",
          "2025-02-05T00:00:00.000000",
          "2025-02-05T01:00:00.000000",
          "2025-02-05T02:00:00.000000",
          "2025-02-05T03:00:00.000000",
          "2025-02-05T04:00:00.000000",
          "2025-02-05T05:00:00.000000",
          "2025-02-05T06:00:00.000000",
          "2025-02-05T07:00:00.000000",
          "2025-02-05T08:00:00.000000",
          "2025-02-05T09:00:00.000000",
          "2025-02-05T10:00:00.000000",
          "2025-02-05T11:00:00.000000",
          "2025-02-05T12:00:00.000000",
          "2025-02-05T13:00:00.000000",
          "2025-02-05T14:00:00.000000",
          "2025-02-05T15:00:00.000000",
          "2025-02-05T16:00:00.000000",
          "2025-02-05T17:00:00.000000",
          "2025-02-05T18:00:00.000000",
          "2025-02-05T19:00:00.000000",
          "2025-02-05T20:00:00.000000",
          "2025-02-05T21:00:00.000000",
          "2025-02-05T22:00:00.000000",
          "2025-02-05T23:00:00.000000",
          "2025-02-06T00:00:00.000000",
          "2025-02-06T01:00:00.000000",
          "2025-02-06T02:00:00.000000",
          "2025-02-06T03:00:00.000000",
          "2025-02-06T04:00:00.000000",
          "2025-02-06T05:00:00.000000",
          "2025-02-06T06:00:00.000000",
          "2025-02-06T07:00:00.000000",
          "2025-02-06T08:00:00.000000",
          "2025-02-06T09:00:00.000000",
          "2025-02-06T10:00:00.000000",
          "2025-02-06T11:00:00.000000",
          "2025-02-06T12:00:00.000000",
          "2025-02-06T13:00:00.000000",
          "2025-02-06T14:00:00.000000",
          "2025-02-06T15:00:00.000000",
          "2025-02-06T16:00:00.000000",
          "2025-02-06T17:00:00.000000",
          "2025-02-06T18:00:00.000000",
          "2025-02-06T19:00:00.000000",
          "2025-02-06T20:00:00.000000",
          "2025-02-06T21:00:00.000000",
          "2025-02-06T22:00:00.000000",
          "2025-02-06T23:00:00.000000",
          "2025-02-07T00:00:00.000000",
          "2025-02-07T01:00:00.000000",
          "2025-02-07T02:00:00.000000",
          "2025-02-07T03:00:00.000000",
          "2025-02-07T04:00:00.000000",
          "2025-02-07T05:00:00.000000",
          "2025-02-07T06:00:00.000000",
          "2025-02-07T07:00:00.000000",
          "2025-02-07T08:00:00.000000",
          "2025-02-07T09:00:00.000000",
          "2025-02-07T10:00:00.000000",
          "2025-02-07T11:00:00.000000",
          "2025-02-07T12:00:00.000000",
          "2025-02-07T13:00:00.000000",
          "2025-02-07T14:00:00.000000",
          "2025-02-07T15:00:00.000000",
          "2025-02-07T16:00:00.000000",
          "2025-02-07T17:00:00.000000",
          "2025-02-07T18:00:00.000000",
          "2025-02-07T19:00:00.000000",
          "2025-02-07T20:00:00.000000",
          "2025-02-07T21:00:00.000000",
          "2025-02-07T22:00:00.000000",
          "2025-02-07T23:00:00.000000",
          "2025-02-08T00:00:00.000000",
          "2025-02-08T01:00:00.000000",
          "2025-02-08T02:00:00.000000",
          "2025-02-08T03:00:00.000000",
          "2025-02-08T04:00:00.000000",
          "2025-02-08T05:00:00.000000",
          "2025-02-08T06:00:00.000000",
          "2025-02-08T07:00:00.000000",
          "2025-02-08T08:00:00.000000",
          "2025-02-08T09:00:00.000000",
          "2025-02-08T10:00:00.000000",
          "2025-02-08T11:00:00.000000",
          "2025-02-08T12:00:00.000000",
          "2025-02-08T13:00:00.000000",
          "2025-02-08T14:00:00.000000",
          "2025-02-08T15:00:00.000000",
          "2025-02-08T16:00:00.000000",
          "2025-02-08T17:00:00.000000",
          "2025-02-08T18:00:00.000000",
          "2025-02-08T19:00:00.000000",
          "2025-02-08T20:00:00.000000",
          "2025-02-08T21:00:00.000000",
          "2025-02-08T22:00:00.000000",
          "2025-02-08T23:00:00.000000",
          "2025-02-09T00:00:00.000000",
          "2025-02-09T01:00:00.000000",
          "2025-02-09T02:00:00.000000",
          "2025-02-09T03:00:00.000000",
          "2025-02-09T04:00:00.000000",
          "2025-02-09T05:00:00.000000",
          "2025-02-09T06:00:00.000000",
          "2025-02-09T07:00:00.000000",
          "2025-02-09T08:00:00.000000",
          "2025-02-09T09:00:00.000000",
          "2025-02-09T10:00:00.000000",
          "2025-02-09T11:00:00.000000",
          "2025-02-09T12:00:00.000000",
          "2025-02-09T13:00:00.000000",
          "2025-02-09T14:00:00.000000",
          "2025-02-09T15:00:00.000000",
          "2025-02-09T16:00:00.000000",
          "2025-02-09T17:00:00.000000",
          "2025-02-09T18:00:00.000000",
          "2025-02-09T19:00:00.000000",
          "2025-02-09T20:00:00.000000",
          "2025-02-09T21:00:00.000000",
          "2025-02-09T22:00:00.000000",
          "2025-02-09T23:00:00.000000",
          "2025-02-10T00:00:00.000000",
          "2025-02-10T01:00:00.000000",
          "2025-02-10T02:00:00.000000",
          "2025-02-10T03:00:00.000000",
          "2025-02-10T04:00:00.000000",
          "2025-02-10T05:00:00.000000",
          "2025-02-10T06:00:00.000000",
          "2025-02-10T07:00:00.000000",
          "2025-02-10T08:00:00.000000",
          "2025-02-10T09:00:00.000000",
          "2025-02-10T10:00:00.000000",
          "2025-02-10T11:00:00.000000",
          "2025-02-10T12:00:00.000000",
          "2025-02-10T13:00:00.000000",
          "2025-02-10T14:00:00.000000",
          "2025-02-10T15:00:00.000000",
          "2025-02-10T16:00:00.000000",
          "2025-02-10T17:00:00.000000",
          "2025-02-10T18:00:00.000000",
          "2025-02-10T19:00:00.000000",
          "2025-02-10T20:00:00.000000",
          "2025-02-10T21:00:00.000000",
          "2025-02-10T22:00:00.000000",
          "2025-02-10T23:00:00.000000",
          "2025-02-11T00:00:00.000000",
          "2025-02-11T01:00:00.000000",
          "2025-02-11T02:00:00.000000",
          "2025-02-11T03:00:00.000000",
          "2025-02-11T04:00:00.000000",
          "2025-02-11T05:00:00.000000",
          "2025-02-11T06:00:00.000000",
          "2025-02-11T07:00:00.000000",
          "2025-02-11T08:00:00.000000",
          "2025-02-11T09:00:00.000000",
          "2025-02-11T10:00:00.000000",
          "2025-02-11T11:00:00.000000",
          "2025-02-11T12:00:00.000000",
          "2025-02-11T13:00:00.000000",
          "2025-02-11T14:00:00.000000",
          "2025-02-11T15:00:00.000000",
          "2025-02-11T16:00:00.000000",
          "2025-02-11T17:00:00.000000",
          "2025-02-11T18:00:00.000000",
          "2025-02-11T19:00:00.000000",
          "2025-02-11T20:00:00.000000",
          "2025-02-11T21:00:00.000000",
          "2025-02-11T22:00:00.000000",
          "2025-02-11T23:00:00.000000",
          "2025-02-12T00:00:00.000000",
          "2025-02-12T01:00:00.000000",
          "2025-02-12T02:00:00.000000",
          "2025-02-12T03:00:00.000000",
          "2025-02-12T04:00:00.000000",
          "2025-02-12T05:00:00.000000",
          "2025-02-12T06:00:00.000000",
          "2025-02-12T07:00:00.000000",
          "2025-02-12T08:00:00.000000",
          "2025-02-12T09:00:00.000000",
          "2025-02-12T10:00:00.000000",
          "2025-02-12T11:00:00.000000",
          "2025-02-12T12:00:00.000000",
          "2025-02-12T13:00:00.000000",
          "2025-02-12T14:00:00.000000",
          "2025-02-12T15:00:00.000000",
          "2025-02-12T16:00:00.000000",
          "2025-02-12T17:00:00.000000",
          "2025-02-12T18:00:00.000000",
          "2025-02-12T19:00:00.000000",
          "2025-02-12T20:00:00.000000",
          "2025-02-12T21:00:00.000000",
          "2025-02-12T22:00:00.000000",
          "2025-02-12T23:00:00.000000",
          "2025-02-13T00:00:00.000000",
          "2025-02-13T01:00:00.000000",
          "2025-02-13T02:00:00.000000",
          "2025-02-13T03:00:00.000000",
          "2025-02-13T04:00:00.000000",
          "2025-02-13T05:00:00.000000",
          "2025-02-13T06:00:00.000000",
          "2025-02-13T07:00:00.000000",
          "2025-02-13T08:00:00.000000",
          "2025-02-13T09:00:00.000000",
          "2025-02-13T10:00:00.000000",
          "2025-02-13T11:00:00.000000",
          "2025-02-13T12:00:00.000000",
          "2025-02-13T13:00:00.000000",
          "2025-02-13T14:00:00.000000",
          "2025-02-13T15:00:00.000000",
          "2025-02-13T16:00:00.000000",
          "2025-02-13T17:00:00.000000",
          "2025-02-13T18:00:00.000000",
          "2025-02-13T19:00:00.000000",
          "2025-02-13T20:00:00.000000",
          "2025-02-13T21:00:00.000000",
          "2025-02-13T22:00:00.000000",
          "2025-02-13T23:00:00.000000",
          "2025-02-14T00:00:00.000000",
          "2025-02-14T01:00:00.000000",
          "2025-02-14T02:00:00.000000",
          "2025-02-14T03:00:00.000000",
          "2025-02-14T04:00:00.000000",
          "2025-02-14T05:00:00.000000",
          "2025-02-14T06:00:00.000000",
          "2025-02-14T07:00:00.000000",
          "2025-02-14T08:00:00.000000",
          "2025-02-14T09:00:00.000000",
          "2025-02-14T10:00:00.000000",
          "2025-02-14T11:00:00.000000",
          "2025-02-14T12:00:00.000000",
          "2025-02-14T13:00:00.000000",
          "2025-02-14T14:00:00.000000",
          "2025-02-14T15:00:00.000000",
          "2025-02-14T16:00:00.000000",
          "2025-02-14T17:00:00.000000",
          "2025-02-14T18:00:00.000000",
          "2025-02-14T19:00:00.000000",
          "2025-02-14T20:00:00.000000",
          "2025-02-14T21:00:00.000000",
          "2025-02-14T22:00:00.000000",
          "2025-02-14T23:00:00.000000",
          "2025-02-15T00:00:00.000000",
          "2025-02-15T01:00:00.000000",
          "2025-02-15T02:00:00.000000",
          "2025-02-15T03:00:00.000000",
          "2025-02-15T04:00:00.000000",
          "2025-02-15T05:00:00.000000",
          "2025-02-15T06:00:00.000000",
          "2025-02-15T07:00:00.000000",
          "2025-02-15T08:00:00.000000",
          "2025-02-15T09:00:00.000000",
          "2025-02-15T10:00:00.000000",
          "2025-02-15T11:00:00.000000",
          "2025-02-15T12:00:00.000000",
          "2025-02-15T13:00:00.000000",
          "2025-02-15T14:00:00.000000",
          "2025-02-15T15:00:00.000000",
          "2025-02-15T16:00:00.000000",
          "2025-02-15T17:00:00.000000",
          "2025-02-15T18:00:00.000000",
          "2025-02-15T19:00:00.000000",
          "2025-02-15T20:00:00.000000",
          "2025-02-15T21:00:00.000000",
          "2025-02-15T22:00:00.000000",
          "2025-02-15T23:00:00.000000",
          "2025-02-16T00:00:00.000000",
          "2025-02-16T01:00:00.000000",
          "2025-02-16T02:00:00.000000",
          "2025-02-16T03:00:00.000000",
          "2025-02-16T04:00:00.000000"
         ],
         "xaxis": "x",
         "y": {
          "dtype": "f8",
          "bdata": "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"
         },
         "yaxis": "y",
         "type": "scatter"
        }
       ],
       "layout": {
        "template": {
         "data": {
          "histogram2dcontour": [
           {
            "type": "histogram2dcontour",
            "colorbar": {
             "outlinewidth": 0,
             "ticks": ""
            },
            "colorscale": [
             [
              0.0,
              "#0d0887"
             ],
             [
              0.1111111111111111,
              "#46039f"
             ],
             [
              0.2222222222222222,
              "#7201a8"
             ],
             [
              0.3333333333333333,
              "#9c179e"
             ],
             [
              0.4444444444444444,
              "#bd3786"
             ],
             [
              0.5555555555555556,
              "#d8576b"
             ],
             [
              0.6666666666666666,
              "#ed7953"
             ],
             [
              0.7777777777777778,
              "#fb9f3a"
             ],
             [
              0.8888888888888888,
              "#fdca26"
             ],
             [
              1.0,
              "#f0f921"
             ]
            ]
           }
          ],
          "choropleth": [
           {
            "type": "choropleth",
            "colorbar": {
             "outlinewidth": 0,
             "ticks": ""
            }
           }
          ],
          "histogram2d": [
           {
            "type": "histogram2d",
            "colorbar": {
             "outlinewidth": 0,
             "ticks": ""
            },
            "colorscale": [
             [
              0.0,
              "#0d0887"
             ],
             [
              0.1111111111111111,
              "#46039f"
             ],
             [
              0.2222222222222222,
              "#7201a8"
             ],
             [
              0.3333333333333333,
              "#9c179e"
             ],
             [
              0.4444444444444444,
              "#bd3786"
             ],
             [
              0.5555555555555556,
              "#d8576b"
             ],
             [
              0.6666666666666666,
              "#ed7953"
             ],
             [
              0.7777777777777778,
              "#fb9f3a"
             ],
             [
              0.8888888888888888,
              "#fdca26"
             ],
             [
              1.0,
              "#f0f921"
             ]
            ]
           }
          ],
          "heatmap": [
           {
            "type": "heatmap",
            "colorbar": {
             "outlinewidth": 0,
             "ticks": ""
            },
            "colorscale": [
             [
              0.0,
              "#0d0887"
             ],
             [
              0.1111111111111111,
              "#46039f"
             ],
             [
              0.2222222222222222,
              "#7201a8"
             ],
             [
              0.3333333333333333,
              "#9c179e"
             ],
             [
              0.4444444444444444,
              "#bd3786"
             ],
             [
              0.5555555555555556,
              "#d8576b"
             ],
             [
              0.6666666666666666,
              "#ed7953"
             ],
             [
              0.7777777777777778,
              "#fb9f3a"
             ],
             [
              0.8888888888888888,
              "#fdca26"
             ],
             [
              1.0,
              "#f0f921"
             ]
            ]
           }
          ],
          "contourcarpet": [
           {
            "type": "contourcarpet",
            "colorbar": {
             "outlinewidth": 0,
             "ticks": ""
            }
           }
          ],
          "contour": [
           {
            "type": "contour",
            "colorbar": {
             "outlinewidth": 0,
             "ticks": ""
            },
            "colorscale": [
             [
              0.0,
              "#0d0887"
             ],
             [
              0.1111111111111111,
              "#46039f"
             ],
             [
              0.2222222222222222,
              "#7201a8"
             ],
             [
              0.3333333333333333,
              "#9c179e"
             ],
             [
              0.4444444444444444,
              "#bd3786"
             ],
             [
              0.5555555555555556,
              "#d8576b"
             ],
             [
              0.6666666666666666,
              "#ed7953"
             ],
             [
              0.7777777777777778,
              "#fb9f3a"
             ],
             [
              0.8888888888888888,
              "#fdca26"
             ],
             [
              1.0,
              "#f0f921"
             ]
            ]
           }
          ],
          "surface": [
           {
            "type": "surface",
            "colorbar": {
             "outlinewidth": 0,
             "ticks": ""
            },
            "colorscale": [
             [
              0.0,
              "#0d0887"
             ],
             [
              0.1111111111111111,
              "#46039f"
             ],
             [
              0.2222222222222222,
              "#7201a8"
             ],
             [
              0.3333333333333333,
              "#9c179e"
             ],
             [
              0.4444444444444444,
              "#bd3786"
             ],
             [
              0.5555555555555556,
              "#d8576b"
             ],
             [
              0.6666666666666666,
              "#ed7953"
             ],
             [
              0.7777777777777778,
              "#fb9f3a"
             ],
             [
              0.8888888888888888,
              "#fdca26"
             ],
             [
              1.0,
              "#f0f921"
             ]
            ]
           }
          ],
          "mesh3d": [
           {
            "type": "mesh3d",
            "colorbar": {
             "outlinewidth": 0,
             "ticks": ""
            }
           }
          ],
          "scatter": [
           {
            "marker": {
             "line": {
              "color": "#283442"
             }
            },
            "type": "scatter"
           }
          ],
          "parcoords": [
           {
            "type": "parcoords",
            "line": {
             "colorbar": {
              "outlinewidth": 0,
              "ticks": ""
             }
            }
           }
          ],
          "scatterpolargl": [
           {
            "type": "scatterpolargl",
            "marker": {
             "colorbar": {
              "outlinewidth": 0,
              "ticks": ""
             }
            }
           }
          ],
          "bar": [
           {
            "error_x": {
             "color": "#f2f5fa"
            },
            "error_y": {
             "color": "#f2f5fa"
            },
            "marker": {
             "line": {
              "color": "rgb(17,17,17)",
              "width": 0.5
             },
             "pattern": {
              "fillmode": "overlay",
              "size": 10,
              "solidity": 0.2
             }
            },
            "type": "bar"
           }
          ],
          "scattergeo": [
           {
            "type": "scattergeo",
            "marker": {
             "colorbar": {
              "outlinewidth": 0,
              "ticks": ""
             }
            }
           }
          ],
          "scatterpolar": [
           {
            "type": "scatterpolar",
            "marker": {
             "colorbar": {
              "outlinewidth": 0,
              "ticks": ""
             }
            }
           }
          ],
          "histogram": [
           {
            "marker": {
             "pattern": {
              "fillmode": "overlay",
              "size": 10,
              "solidity": 0.2
             }
            },
            "type": "histogram"
           }
          ],
          "scattergl": [
           {
            "marker": {
             "line": {
              "color": "#283442"
             }
            },
            "type": "scattergl"
           }
          ],
          "scatter3d": [
           {
            "type": "scatter3d",
            "line": {
             "colorbar": {
              "outlinewidth": 0,
              "ticks": ""
             }
            },
            "marker": {
             "colorbar": {
              "outlinewidth": 0,
              "ticks": ""
             }
            }
           }
          ],
          "scattermap": [
           {
            "type": "scattermap",
            "marker": {
             "colorbar": {
              "outlinewidth": 0,
              "ticks": ""
             }
            }
           }
          ],
          "scattermapbox": [
           {
            "type": "scattermapbox",
            "marker": {
             "colorbar": {
              "outlinewidth": 0,
              "ticks": ""
             }
            }
           }
          ],
          "scatterternary": [
           {
            "type": "scatterternary",
            "marker": {
             "colorbar": {
              "outlinewidth": 0,
              "ticks": ""
             }
            }
           }
          ],
          "scattercarpet": [
           {
            "type": "scattercarpet",
            "marker": {
             "colorbar": {
              "outlinewidth": 0,
              "ticks": ""
             }
            }
           }
          ],
          "carpet": [
           {
            "aaxis": {
             "endlinecolor": "#A2B1C6",
             "gridcolor": "#506784",
             "linecolor": "#506784",
             "minorgridcolor": "#506784",
             "startlinecolor": "#A2B1C6"
            },
            "baxis": {
             "endlinecolor": "#A2B1C6",
             "gridcolor": "#506784",
             "linecolor": "#506784",
             "minorgridcolor": "#506784",
             "startlinecolor": "#A2B1C6"
            },
            "type": "carpet"
           }
          ],
          "table": [
           {
            "cells": {
             "fill": {
              "color": "#506784"
             },
             "line": {
              "color": "rgb(17,17,17)"
             }
            },
            "header": {
             "fill": {
              "color": "#2a3f5f"
             },
             "line": {
              "color": "rgb(17,17,17)"
             }
            },
            "type": "table"
           }
          ],
          "barpolar": [
           {
            "marker": {
             "line": {
              "color": "rgb(17,17,17)",
              "width": 0.5
             },
             "pattern": {
              "fillmode": "overlay",
              "size": 10,
              "solidity": 0.2
             }
            },
            "type": "barpolar"
           }
          ],
          "pie": [
           {
            "automargin": true,
            "type": "pie"
           }
          ]
         },
         "layout": {
          "autotypenumbers": "strict",
          "colorway": [
           "#636efa",
           "#EF553B",
           "#00cc96",
           "#ab63fa",
           "#FFA15A",
           "#19d3f3",
           "#FF6692",
           "#B6E880",
           "#FF97FF",
           "#FECB52"
          ],
          "font": {
           "color": "#f2f5fa"
          },
          "hovermode": "closest",
          "hoverlabel": {
           "align": "left"
          },
          "paper_bgcolor": "rgb(17,17,17)",
          "plot_bgcolor": "rgb(17,17,17)",
          "polar": {
           "bgcolor": "rgb(17,17,17)",
           "angularaxis": {
            "gridcolor": "#506784",
            "linecolor": "#506784",
            "ticks": ""
           },
           "radialaxis": {
            "gridcolor": "#506784",
            "linecolor": "#506784",
            "ticks": ""
           }
          },
          "ternary": {
           "bgcolor": "rgb(17,17,17)",
           "aaxis": {
            "gridcolor": "#506784",
            "linecolor": "#506784",
            "ticks": ""
           },
           "baxis": {
            "gridcolor": "#506784",
            "linecolor": "#506784",
            "ticks": ""
           },
           "caxis": {
            "gridcolor": "#506784",
            "linecolor": "#506784",
            "ticks": ""
           }
          },
          "coloraxis": {
           "colorbar": {
            "outlinewidth": 0,
            "ticks": ""
           }
          },
          "colorscale": {
           "sequential": [
            [
             0.0,
             "#0d0887"
            ],
            [
             0.1111111111111111,
             "#46039f"
            ],
            [
             0.2222222222222222,
             "#7201a8"
            ],
            [
             0.3333333333333333,
             "#9c179e"
            ],
            [
             0.4444444444444444,
             "#bd3786"
            ],
            [
             0.5555555555555556,
             "#d8576b"
            ],
            [
             0.6666666666666666,
             "#ed7953"
            ],
            [
             0.7777777777777778,
             "#fb9f3a"
            ],
            [
             0.8888888888888888,
             "#fdca26"
            ],
            [
             1.0,
             "#f0f921"
            ]
           ],
           "sequentialminus": [
            [
             0.0,
             "#0d0887"
            ],
            [
             0.1111111111111111,
             "#46039f"
            ],
            [
             0.2222222222222222,
             "#7201a8"
            ],
            [
             0.3333333333333333,
             "#9c179e"
            ],
            [
             0.4444444444444444,
             "#bd3786"
            ],
            [
             0.5555555555555556,
             "#d8576b"
            ],
            [
             0.6666666666666666,
             "#ed7953"
            ],
            [
             0.7777777777777778,
             "#fb9f3a"
            ],
            [
             0.8888888888888888,
             "#fdca26"
            ],
            [
             1.0,
             "#f0f921"
            ]
           ],
           "diverging": [
            [
             0,
             "#8e0152"
            ],
            [
             0.1,
             "#c51b7d"
            ],
            [
             0.2,
             "#de77ae"
            ],
            [
             0.3,
             "#f1b6da"
            ],
            [
             0.4,
             "#fde0ef"
            ],
            [
             0.5,
             "#f7f7f7"
            ],
            [
             0.6,
             "#e6f5d0"
            ],
            [
             0.7,
             "#b8e186"
            ],
            [
             0.8,
             "#7fbc41"
            ],
            [
             0.9,
             "#4d9221"
            ],
            [
             1,
             "#276419"
            ]
           ]
          },
          "xaxis": {
           "gridcolor": "#283442",
           "linecolor": "#506784",
           "ticks": "",
           "title": {
            "standoff": 15
           },
           "zerolinecolor": "#283442",
           "automargin": true,
           "zerolinewidth": 2
          },
          "yaxis": {
           "gridcolor": "#283442",
           "linecolor": "#506784",
           "ticks": "",
           "title": {
            "standoff": 15
           },
           "zerolinecolor": "#283442",
           "automargin": true,
           "zerolinewidth": 2
          },
          "scene": {
           "xaxis": {
            "backgroundcolor": "rgb(17,17,17)",
            "gridcolor": "#506784",
            "linecolor": "#506784",
            "showbackground": true,
            "ticks": "",
            "zerolinecolor": "#C8D4E3",
            "gridwidth": 2
           },
           "yaxis": {
            "backgroundcolor": "rgb(17,17,17)",
            "gridcolor": "#506784",
            "linecolor": "#506784",
            "showbackground": true,
            "ticks": "",
            "zerolinecolor": "#C8D4E3",
            "gridwidth": 2
           },
           "zaxis": {
            "backgroundcolor": "rgb(17,17,17)",
            "gridcolor": "#506784",
            "linecolor": "#506784",
            "showbackground": true,
            "ticks": "",
            "zerolinecolor": "#C8D4E3",
            "gridwidth": 2
           }
          },
          "shapedefaults": {
           "line": {
            "color": "#f2f5fa"
           }
          },
          "annotationdefaults": {
           "arrowcolor": "#f2f5fa",
           "arrowhead": 0,
           "arrowwidth": 1
          },
          "geo": {
           "bgcolor": "rgb(17,17,17)",
           "landcolor": "rgb(17,17,17)",
           "subunitcolor": "#506784",
           "showland": true,
           "showlakes": true,
           "lakecolor": "rgb(17,17,17)"
          },
          "title": {
           "x": 0.05
          },
          "updatemenudefaults": {
           "bgcolor": "#506784",
           "borderwidth": 0
          },
          "sliderdefaults": {
           "bgcolor": "#C8D4E3",
           "borderwidth": 1,
           "bordercolor": "rgb(17,17,17)",
           "tickwidth": 0
          },
          "mapbox": {
           "style": "dark"
          }
         }
        },
        "xaxis": {
         "anchor": "y",
         "domain": [
          0.0,
          1.0
         ],
         "title": {
          "text": "post_timestamp"
         }
        },
        "yaxis": {
         "anchor": "x",
         "domain": [
          0.0,
          1.0
         ],
         "title": {
          "text": "log_post_count"
         }
        },
        "legend": {
         "tracegroupgap": 0
        },
        "title": {
         "text": "Log-Transformed Posts Per Hour (log(1 + Count))"
        }
       },
       "config": {
        "plotlyServerURL": "https://plot.ly"
       }
      }
     },
     "metadata": {},
     "output_type": "display_data",
     "jetTransient": {
      "display_id": null
     }
    },
    {
     "name": "stdout",
     "output_type": "stream",
     "text": [
      "Plots displayed.\n"
     ]
    }
   ],
   "execution_count": 6
  },
  {
   "metadata": {},
   "cell_type": "markdown",
   "source": [
    "**Analysis of Transformation**\n",
    "- **Original Plot:** In the raw count data, the variance is unstable (heteroscedastic). The fluctuations during normal periods (e.g., Feb 5-10) are small (maybe 0-150), while the fluctuations during the major spike on Feb 13 are massive (from a low base to over 600). This difference in scale can skew the results of statistical models.\n",
    "\n",
    "\n",
    "- **Log-Transformed Plot:** The log transformation has successfully stabilized the variance. The peaks and valleys now oscillate within a much more consistent range (roughly 2.5 to 6.0). The massive spike on Feb 13 is compressed and now looks proportional to the other large daily spikes (like the one on Jan 30), rather than exponentially larger."
   ],
   "id": "5001aa8c3bd8cd69"
  },
  {
   "metadata": {},
   "cell_type": "markdown",
   "source": [
    "**Decision and Next Steps**\n",
    "This log-transformed data is much more suitable for the time-series modeling and statistical tests we plan to do, as it better meets the assumption of constant variance.\n",
    "\n",
    "Therefore, for our Week 2 analysis (Burst Detection and Clustering), we will use the log_post_count column from the posts_per_hour_transformed DataFrame.\n",
    "\n",
    "This completes all the tasks outlined for Week 1 of your proposal:\n",
    "\n",
    "1. Setup & Data Exploration: Done.\n",
    "\n",
    "2. Load Data: Done.\n",
    "\n",
    "3. Perform Initial Time-Series Diagnostics:\n",
    "\n",
    "    - Visualization: Done.\n",
    "\n",
    "    - Autocorrelation (ACF): Done.\n",
    "\n",
    "    - Transformation: Done."
   ],
   "id": "bfc35a6599a59fdf"
  },
  {
   "metadata": {},
   "cell_type": "markdown",
   "source": "",
   "id": "30f2c36cf8f16238"
  }
 ],
 "metadata": {
  "kernelspec": {
   "display_name": "Python 3",
   "language": "python",
   "name": "python3"
  },
  "language_info": {
   "codemirror_mode": {
    "name": "ipython",
    "version": 2
   },
   "file_extension": ".py",
   "mimetype": "text/x-python",
   "name": "python",
   "nbconvert_exporter": "python",
   "pygments_lexer": "ipython2",
   "version": "2.7.6"
  }
 },
 "nbformat": 4,
 "nbformat_minor": 5
}
